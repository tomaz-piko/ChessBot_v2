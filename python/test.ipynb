{
 "cells": [
  {
   "cell_type": "code",
   "execution_count": 1,
   "metadata": {},
   "outputs": [
    {
     "name": "stderr",
     "output_type": "stream",
     "text": [
      "2025-01-14 17:34:02.785955: I tensorflow/core/platform/cpu_feature_guard.cc:182] This TensorFlow binary is optimized to use available CPU instructions in performance-critical operations.\n",
      "To enable the following instructions: AVX2 FMA, in other operations, rebuild TensorFlow with the appropriate compiler flags.\n"
     ]
    }
   ],
   "source": [
    "from utils import FakeTRTFunc\n",
    "from model import load_as_trt_model\n",
    "import chess.syzygy as syzygy\n",
    "\n",
    "use_fake = True\n",
    "if use_fake:\n",
    "    trt_func = FakeTRTFunc()\n",
    "else:\n",
    "    trt_func, _ = load_as_trt_model()\n",
    "tablebase = syzygy.open_tablebase(\"/home/tomaz/ChessBot_v2/syzygy/3-4-5\")"
   ]
  },
  {
   "cell_type": "code",
   "execution_count": 2,
   "metadata": {},
   "outputs": [
    {
     "name": "stdout",
     "output_type": "stream",
     "text": [
      "\n",
      "  +---+---+---+---+---+---+---+---+\n",
      "  | r |   |   | q | k | Q |   |   | 8\n",
      "  +---+---+---+---+---+---+---+---+\n",
      "  | p |   |   | p |   |   | p | r | 7\n",
      "  +---+---+---+---+---+---+---+---+\n",
      "  | b |   | p |   |   | n |   |   | 6\n",
      "  +---+---+---+---+---+---+---+---+\n",
      "  | n | p |   |   |   | p |   | p | 5\n",
      "  +---+---+---+---+---+---+---+---+\n",
      "  | P | B |   | P |   |   |   |   | 4\n",
      "  +---+---+---+---+---+---+---+---+\n",
      "  |   |   |   |   |   | N |   |   | 3\n",
      "  +---+---+---+---+---+---+---+---+\n",
      "  |   | P | P |   | N | P | P | P | 2\n",
      "  +---+---+---+---+---+---+---+---+\n",
      "  |   | R |   |   | K |   |   | R | 1\n",
      "  +---+---+---+---+---+---+---+---+\n",
      "    a   b   c   d   e   f   g   h\n",
      "\n",
      "Fen: r2qkQ2/p2p2pr/b1p2n2/np3p1p/PB1P4/5N2/1PP1NPPP/1R2K2R b Kq - 0 15\n",
      "Key: 15c38887538a2f8e\n",
      "White wins by checkmate in 29 moves in 3.98 seconds\n"
     ]
    }
   ],
   "source": [
    "from selfplay import play_game\n",
    "from configs import selfplayConfig\n",
    "\n",
    "_, _, _ = play_game(trt_func, tablebase, 2)\n"
   ]
  },
  {
   "cell_type": "code",
   "execution_count": 6,
   "metadata": {},
   "outputs": [
    {
     "name": "stdout",
     "output_type": "stream",
     "text": [
      "\n",
      "  +---+---+---+---+---+---+---+---+\n",
      "  |   |   |   |   |   |   | k |   | 8\n",
      "  +---+---+---+---+---+---+---+---+\n",
      "  |   |   |   |   |   |   |   |   | 7\n",
      "  +---+---+---+---+---+---+---+---+\n",
      "  |   |   |   |   |   |   |   |   | 6\n",
      "  +---+---+---+---+---+---+---+---+\n",
      "  |   |   |   |   |   |   |   |   | 5\n",
      "  +---+---+---+---+---+---+---+---+\n",
      "  |   | B |   |   |   | K |   |   | 4\n",
      "  +---+---+---+---+---+---+---+---+\n",
      "  |   |   |   |   |   |   |   |   | 3\n",
      "  +---+---+---+---+---+---+---+---+\n",
      "  |   |   |   |   |   |   |   |   | 2\n",
      "  +---+---+---+---+---+---+---+---+\n",
      "  |   |   |   | b |   |   |   |   | 1\n",
      "  +---+---+---+---+---+---+---+---+\n",
      "    a   b   c   d   e   f   g   h\n",
      "\n",
      "Fen: 6k1/8/8/8/1B3K2/8/8/3b4 b - - 0 111\n",
      "Key: 1a8325d150c15122\n",
      "[\"g8f7\", \"g8g7\", \"g8h7\", \"g8h8\", \"d1c2\", \"d1e2\", \"d1b3\", \"d1f3\", \"d1a4\", \"d1g4\", \"d1h5\"]\n"
     ]
    }
   ],
   "source": [
    "from rchess import Board\n",
    "board = Board(\"6k1/8/8/8/1B3K2/8/8/3b4 b - - 0 111\")\n",
    "print(board)\n",
    "print(board.legal_moves())"
   ]
  },
  {
   "cell_type": "code",
   "execution_count": 10,
   "metadata": {},
   "outputs": [
    {
     "data": {
      "text/plain": [
       "(True, None)"
      ]
     },
     "execution_count": 10,
     "metadata": {},
     "output_type": "execute_result"
    }
   ],
   "source": [
    "board.terminal()"
   ]
  }
 ],
 "metadata": {
  "kernelspec": {
   "display_name": "Python 3",
   "language": "python",
   "name": "python3"
  },
  "language_info": {
   "codemirror_mode": {
    "name": "ipython",
    "version": 3
   },
   "file_extension": ".py",
   "mimetype": "text/x-python",
   "name": "python",
   "nbconvert_exporter": "python",
   "pygments_lexer": "ipython3",
   "version": "3.10.12"
  }
 },
 "nbformat": 4,
 "nbformat_minor": 2
}
