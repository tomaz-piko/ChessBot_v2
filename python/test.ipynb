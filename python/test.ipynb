{
 "cells": [
  {
   "cell_type": "code",
   "execution_count": 1,
   "metadata": {},
   "outputs": [
    {
     "name": "stderr",
     "output_type": "stream",
     "text": [
      "2025-01-22 21:25:15.326046: I tensorflow/core/platform/cpu_feature_guard.cc:182] This TensorFlow binary is optimized to use available CPU instructions in performance-critical operations.\n",
      "To enable the following instructions: AVX2 FMA, in other operations, rebuild TensorFlow with the appropriate compiler flags.\n"
     ]
    }
   ],
   "source": [
    "from utils import FakeTRTFunc\n",
    "from model import load_as_trt_model\n",
    "import chess.syzygy as syzygy\n",
    "\n",
    "use_fake = True\n",
    "if use_fake:\n",
    "    trt_func = FakeTRTFunc()\n",
    "else:\n",
    "    trt_func, _ = load_as_trt_model()\n",
    "tablebase = syzygy.open_tablebase(\"/home/tomaz/ChessBot_v2/syzygy/3-4-5\")"
   ]
  },
  {
   "cell_type": "code",
   "execution_count": 2,
   "metadata": {},
   "outputs": [
    {
     "name": "stdout",
     "output_type": "stream",
     "text": [
      "\n",
      "  +---+---+---+---+---+---+---+---+\n",
      "  |   | k |   |   |   |   |   |   | 8\n",
      "  +---+---+---+---+---+---+---+---+\n",
      "  |   |   |   |   |   |   |   |   | 7\n",
      "  +---+---+---+---+---+---+---+---+\n",
      "  |   |   |   |   |   |   |   |   | 6\n",
      "  +---+---+---+---+---+---+---+---+\n",
      "  |   |   |   |   |   |   |   |   | 5\n",
      "  +---+---+---+---+---+---+---+---+\n",
      "  |   |   |   |   | P |   |   | B | 4\n",
      "  +---+---+---+---+---+---+---+---+\n",
      "  |   |   | K |   |   |   |   |   | 3\n",
      "  +---+---+---+---+---+---+---+---+\n",
      "  |   |   |   |   | R |   |   |   | 2\n",
      "  +---+---+---+---+---+---+---+---+\n",
      "  |   |   |   |   |   |   |   |   | 1\n",
      "  +---+---+---+---+---+---+---+---+\n",
      "    a   b   c   d   e   f   g   h\n",
      "\n",
      "Fen: 1k6/8/8/8/4P2B/2K5/4R3/8 b - - 0 171\n",
      "Key: b05c9d7d7042536d\n",
      "White wins by tablebase in 341 moves in 33.79 seconds\n"
     ]
    }
   ],
   "source": [
    "from selfplay import play_game\n",
    "from mcts import MCTS\n",
    "from configs import selfplayConfig\n",
    "\n",
    "mctsSearch = MCTS(selfplayConfig)\n",
    "_, (_, _) = play_game(mctsSearch, trt_func, tablebase, 2)"
   ]
  },
  {
   "cell_type": "code",
   "execution_count": 2,
   "metadata": {},
   "outputs": [
    {
     "name": "stdout",
     "output_type": "stream",
     "text": [
      "\n",
      "  +---+---+---+---+---+---+---+---+\n",
      "  |   |   |   |   |   |   |   |   | 8\n",
      "  +---+---+---+---+---+---+---+---+\n",
      "  |   |   |   |   |   |   |   |   | 7\n",
      "  +---+---+---+---+---+---+---+---+\n",
      "  |   |   |   |   |   | k |   | n | 6\n",
      "  +---+---+---+---+---+---+---+---+\n",
      "  |   |   | R |   | N |   |   |   | 5\n",
      "  +---+---+---+---+---+---+---+---+\n",
      "  | p |   |   | R |   |   |   |   | 4\n",
      "  +---+---+---+---+---+---+---+---+\n",
      "  |   |   | P | p | b |   |   |   | 3\n",
      "  +---+---+---+---+---+---+---+---+\n",
      "  |   |   |   |   |   |   |   |   | 2\n",
      "  +---+---+---+---+---+---+---+---+\n",
      "  |   |   |   |   |   | K | r | B | 1\n",
      "  +---+---+---+---+---+---+---+---+\n",
      "    a   b   c   d   e   f   g   h\n",
      "\n",
      "Fen: 8/8/5k1n/2R1N3/p2R4/2Ppb3/8/5KrB w - - 18 82\n",
      "Key: 12d1c02f36d2423b\n",
      "Black wins by checkmate in 162 moves in 18.17 seconds\n",
      "\n",
      "  +---+---+---+---+---+---+---+---+\n",
      "  |   | B |   | r |   |   |   |   | 8\n",
      "  +---+---+---+---+---+---+---+---+\n",
      "  |   | P |   |   |   |   |   |   | 7\n",
      "  +---+---+---+---+---+---+---+---+\n",
      "  |   | P |   |   | B | r |   | p | 6\n",
      "  +---+---+---+---+---+---+---+---+\n",
      "  |   |   |   | n | p |   | k | P | 5\n",
      "  +---+---+---+---+---+---+---+---+\n",
      "  |   |   | p |   |   |   |   |   | 4\n",
      "  +---+---+---+---+---+---+---+---+\n",
      "  |   |   |   | b |   |   |   |   | 3\n",
      "  +---+---+---+---+---+---+---+---+\n",
      "  |   |   |   | P | K |   |   |   | 2\n",
      "  +---+---+---+---+---+---+---+---+\n",
      "  | q |   |   |   |   |   |   | R | 1\n",
      "  +---+---+---+---+---+---+---+---+\n",
      "    a   b   c   d   e   f   g   h\n",
      "\n",
      "Fen: 1B1r4/1P6/1P2Br1p/3np1kP/2p5/3b4/3PK3/q6R w - - 11 54\n",
      "Key: f6e9bd0ad695ccfa\n",
      "Black wins by checkmate in 106 moves in 11.98 seconds\n",
      "\n",
      "  +---+---+---+---+---+---+---+---+\n",
      "  |   |   |   | Q |   |   |   |   | 8\n",
      "  +---+---+---+---+---+---+---+---+\n",
      "  |   |   | n |   |   |   |   |   | 7\n",
      "  +---+---+---+---+---+---+---+---+\n",
      "  | k |   |   |   |   |   |   |   | 6\n",
      "  +---+---+---+---+---+---+---+---+\n",
      "  |   |   |   |   |   |   |   |   | 5\n",
      "  +---+---+---+---+---+---+---+---+\n",
      "  |   |   |   |   |   |   | K |   | 4\n",
      "  +---+---+---+---+---+---+---+---+\n",
      "  |   |   |   |   |   |   |   |   | 3\n",
      "  +---+---+---+---+---+---+---+---+\n",
      "  | q |   |   |   |   |   |   |   | 2\n",
      "  +---+---+---+---+---+---+---+---+\n",
      "  |   |   |   |   |   |   |   |   | 1\n",
      "  +---+---+---+---+---+---+---+---+\n",
      "    a   b   c   d   e   f   g   h\n",
      "\n",
      "Fen: 3Q4/2n5/k7/8/6K1/8/q7/8 b - - 0 145\n",
      "Key: 320ae754f0b51eb2\n",
      "Tablebase draw in 289 moves in 32.17 seconds\n"
     ]
    }
   ],
   "source": [
    "from selfplay import run_selfplay\n",
    "from mcts import MCTS\n",
    "from configs import selfplayConfig\n",
    "\n",
    "mctsSearch = MCTS(selfplayConfig)\n",
    "\n",
    "run_selfplay(\n",
    "    num_agents=1,\n",
    "    num_games=3,\n",
    "    buffer_size=128,\n",
    "    use_fake_model=True,\n",
    "    verbose=2,\n",
    ")"
   ]
  }
 ],
 "metadata": {
  "kernelspec": {
   "display_name": "Python 3",
   "language": "python",
   "name": "python3"
  },
  "language_info": {
   "codemirror_mode": {
    "name": "ipython",
    "version": 3
   },
   "file_extension": ".py",
   "mimetype": "text/x-python",
   "name": "python",
   "nbconvert_exporter": "python",
   "pygments_lexer": "ipython3",
   "version": "3.10.12"
  }
 },
 "nbformat": 4,
 "nbformat_minor": 2
}
