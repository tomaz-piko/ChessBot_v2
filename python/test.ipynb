{
 "cells": [
  {
   "cell_type": "code",
   "execution_count": 2,
   "metadata": {},
   "outputs": [],
   "source": [
    "import numpy as np\n",
    "import json\n",
    "import time\n",
    "import sys\n",
    "import redis\n",
    "import msgpack\n",
    "from multiprocessing import Process, Manager"
   ]
  },
  {
   "cell_type": "code",
   "execution_count": 3,
   "metadata": {},
   "outputs": [
    {
     "data": {
      "text/plain": [
       "(array([0.56664246, 0.5617776 , 0.9995359 , ..., 0.7664546 , 0.9325946 ,\n",
       "        0.69126344], dtype=float32),\n",
       " array([0.91439945], dtype=float32))"
      ]
     },
     "execution_count": 3,
     "metadata": {},
     "output_type": "execute_result"
    }
   ],
   "source": [
    "# Random array of floats sized 1858\n",
    "pool = redis.ConnectionPool(host='localhost', port=6379, db=0)\n",
    "#r = redis.Redis(connection_pool=pool)\n",
    "fake_policy = np.random.rand(1858).astype(np.float32)\n",
    "fake_value = np.random.rand(1).astype(np.float32)\n",
    "fake_policy, fake_value"
   ]
  },
  {
   "cell_type": "code",
   "execution_count": 4,
   "metadata": {},
   "outputs": [
    {
     "name": "stdout",
     "output_type": "stream",
     "text": [
      "Average time to serialize:  0.00033260107040405273\n"
     ]
    }
   ],
   "source": [
    "times = []\n",
    "for i in range(100):\n",
    "    t1 = time.time()\n",
    "    fake_policy_quantized = np.round(fake_policy * 255).astype(np.uint16)\n",
    "    json_str = json.dumps({\n",
    "        \"policy\": fake_policy_quantized.tolist(),\n",
    "        \"value\": fake_value.tolist()\n",
    "    })\n",
    "    r.set(\"test\", json_str)\n",
    "    t2 = time.time()\n",
    "    times.append(t2 - t1)\n",
    "print(\"Average time to serialize: \", np.mean(times))"
   ]
  },
  {
   "cell_type": "code",
   "execution_count": 4,
   "metadata": {},
   "outputs": [
    {
     "name": "stdout",
     "output_type": "stream",
     "text": [
      "Average time to deserialize:  0.0002930087804794312\n"
     ]
    }
   ],
   "source": [
    "times = []\n",
    "for i in range(100):\n",
    "    t1 = time.time()\n",
    "    json_redis = r.get(\"test\")\n",
    "    data = json.loads(json_redis)\n",
    "    fake_policy_out = np.array(data[\"policy\"], dtype=np.uint16).astype(np.float32) / 255\n",
    "    fake_value_out = np.array(data[\"value\"], dtype=np.float32)\n",
    "    t2 = time.time()\n",
    "    times.append(t2 - t1)\n",
    "print(\"Average time to deserialize: \", np.mean(times))"
   ]
  },
  {
   "cell_type": "code",
   "execution_count": 5,
   "metadata": {},
   "outputs": [
    {
     "data": {
      "text/plain": [
       "(7544, 8600, 8584, 232, 7544)"
      ]
     },
     "execution_count": 5,
     "metadata": {},
     "output_type": "execute_result"
    }
   ],
   "source": [
    "sys.getsizeof(fake_policy), sys.getsizeof(json_str), sys.getsizeof(json_redis), sys.getsizeof(data), sys.getsizeof(fake_policy_out)"
   ]
  },
  {
   "cell_type": "code",
   "execution_count": 26,
   "metadata": {},
   "outputs": [
    {
     "name": "stdout",
     "output_type": "stream",
     "text": [
      "Average time to serialize:  0.00032272100448608396\n"
     ]
    }
   ],
   "source": [
    "times = []\n",
    "for i in range(100):\n",
    "    t1 = time.time()\n",
    "    fake_policy_quantized = np.round(fake_policy * 255).astype(np.uint16)\n",
    "    package = msgpack.dumps({\n",
    "        \"policy\": fake_policy.tolist(),\n",
    "        \"value\": fake_value.tolist()\n",
    "    })\n",
    "    r.set(\"test2\", package)\n",
    "    t2 = time.time()\n",
    "    times.append(t2 - t1)\n",
    "print(\"Average time to serialize: \", np.mean(times))"
   ]
  },
  {
   "cell_type": "code",
   "execution_count": 27,
   "metadata": {},
   "outputs": [
    {
     "name": "stdout",
     "output_type": "stream",
     "text": [
      "Average time to deserialize:  0.00036874055862426755\n"
     ]
    }
   ],
   "source": [
    "times = []\n",
    "for i in range(100):\n",
    "    t1 = time.time()\n",
    "    package_redis = r.get(\"test2\")\n",
    "    data = msgpack.loads(package_redis)\n",
    "    fake_policy_out = np.array(data[\"policy\"], dtype=np.uint16).astype(np.float32) / 255\n",
    "    fake_value_out = np.array(data[\"value\"], dtype=np.float32)\n",
    "    t2 = time.time()\n",
    "    times.append(t2 - t1)\n",
    "print(\"Average time to deserialize: \", np.mean(times))"
   ]
  },
  {
   "cell_type": "code",
   "execution_count": 25,
   "metadata": {},
   "outputs": [
    {
     "data": {
      "text/plain": [
       "(7544, 16782, 2856, 232, 7544)"
      ]
     },
     "execution_count": 25,
     "metadata": {},
     "output_type": "execute_result"
    }
   ],
   "source": [
    "sys.getsizeof(fake_policy), sys.getsizeof(package), sys.getsizeof(package_redis), sys.getsizeof(data), sys.getsizeof(fake_policy_out)"
   ]
  },
  {
   "cell_type": "code",
   "execution_count": 11,
   "metadata": {},
   "outputs": [
    {
     "data": {
      "text/plain": [
       "(array([0.9254902 , 0.13333334, 0.9137255 , ..., 0.84313726, 0.1764706 ,\n",
       "        0.7764706 ], dtype=float32),\n",
       " array([0.44071597], dtype=float32))"
      ]
     },
     "execution_count": 11,
     "metadata": {},
     "output_type": "execute_result"
    }
   ],
   "source": [
    "fake_policy_out, fake_value_out"
   ]
  },
  {
   "cell_type": "code",
   "execution_count": 15,
   "metadata": {},
   "outputs": [
    {
     "name": "stdout",
     "output_type": "stream",
     "text": [
      "Average time to serialize: Average time to deserialize:   0.000284445285797119130.00037267684936523435\n",
      "\n",
      "0 48\n"
     ]
    }
   ],
   "source": [
    "\n",
    "def test_write(cache, pool):\n",
    "    r = redis.Redis(connection_pool=pool)\n",
    "    times = []\n",
    "    for i in range(100):\n",
    "        t1 = time.time()\n",
    "        fake_policy_quantized = np.round(fake_policy * 255).astype(np.uint16)\n",
    "        json_str = json.dumps({\n",
    "            \"policy\": fake_policy_quantized.tolist(),\n",
    "            \"value\": fake_value.tolist()\n",
    "        })\n",
    "        r.set(\"test\", json_str)\n",
    "        t2 = time.time()\n",
    "        times.append(t2 - t1)\n",
    "    print(\"Average time to serialize: \", np.mean(times))\n",
    "\n",
    "def test_read(cache, pool):\n",
    "    r = redis.Redis(connection_pool=pool)\n",
    "    times = []\n",
    "    for i in range(100):\n",
    "        t1 = time.time()\n",
    "        package_redis = r.get(\"test2\")\n",
    "        data = msgpack.loads(package_redis)\n",
    "        fake_policy_out = np.array(data[\"policy\"], dtype=np.uint16).astype(np.float32) / 255\n",
    "        fake_value_out = np.array(data[\"value\"], dtype=np.float32)\n",
    "        t2 = time.time()\n",
    "        times.append(t2 - t1)\n",
    "    print(\"Average time to deserialize: \", np.mean(times))\n",
    "\n",
    "with Manager() as manager:\n",
    "    cache = manager.dict()\n",
    "    p1 = Process(target=test_write, args=(cache, pool))\n",
    "    p2 = Process(target=test_read, args=(cache, pool))\n",
    "    p1.start()\n",
    "    p2.start()\n",
    "    p1.join()\n",
    "    p2.join()\n",
    "    print(len(cache), sys.getsizeof(cache))"
   ]
  },
  {
   "cell_type": "code",
   "execution_count": 19,
   "metadata": {},
   "outputs": [
    {
     "name": "stdout",
     "output_type": "stream",
     "text": [
      "Average time to fetch None:  7.092714309692383e-05\n"
     ]
    }
   ],
   "source": [
    "r = redis.Redis(connection_pool=pool)\n",
    "times = []\n",
    "for i in range(100):\n",
    "    t1 = time.time()\n",
    "    n = r.get(\"test6\")\n",
    "    t2 = time.time()\n",
    "    times.append(t2 - t1)\n",
    "print(\"Average time to fetch None: \", np.mean(times))"
   ]
  },
  {
   "cell_type": "code",
   "execution_count": 20,
   "metadata": {},
   "outputs": [
    {
     "data": {
      "text/plain": [
       "70.92714309692383"
      ]
     },
     "execution_count": 20,
     "metadata": {},
     "output_type": "execute_result"
    }
   ],
   "source": [
    "np.mean(times) * 1000000"
   ]
  },
  {
   "cell_type": "code",
   "execution_count": 7,
   "metadata": {},
   "outputs": [
    {
     "name": "stdout",
     "output_type": "stream",
     "text": [
      "legal_moves: 0.10827130500001658\n",
      "legal_moves_num: 0.04818951000015659\n",
      "legal_moves_uci: 0.2719182629998613\n"
     ]
    }
   ],
   "source": [
    "from rchess import Board\n",
    "import timeit\n",
    "\n",
    "def time_legal_moves():\n",
    "    board = Board()\n",
    "    for i in range(10):\n",
    "        legal_moves = board.legal_moves()\n",
    "    return board\n",
    "\n",
    "def time_legal_moves_num():\n",
    "    board = Board()\n",
    "    for i in range(10):\n",
    "        legal_moves_num = board.legal_moves_num()\n",
    "    return board\n",
    "\n",
    "def time_legal_moves_uci():\n",
    "    board = Board()\n",
    "    for i in range(10):\n",
    "        legal_moves_uci = board.legal_moves_uci()\n",
    "    return board\n",
    "\n",
    "# time all three and print the results\n",
    "legal_moves = timeit.timeit(time_legal_moves, number=10000)\n",
    "legal_moves_num = timeit.timeit(time_legal_moves_num, number=10000)\n",
    "legal_moves_uci = timeit.timeit(time_legal_moves_uci, number=10000)\n",
    "\n",
    "print(f\"legal_moves: {legal_moves}\")\n",
    "print(f\"legal_moves_num: {legal_moves_num}\")\n",
    "print(f\"legal_moves_uci: {legal_moves_uci}\")\n"
   ]
  },
  {
   "cell_type": "code",
   "execution_count": 3,
   "metadata": {},
   "outputs": [
    {
     "name": "stdout",
     "output_type": "stream",
     "text": [
      "legal_moves: 0.11833564499988825\n",
      "legal_moves_num: 0.04872912600012569\n",
      "legal_moves_uci: 0.10376740599986078\n",
      "legal_moves_tuple: 0.149593976999995\n"
     ]
    }
   ],
   "source": [
    "from rchess import Board\n",
    "import timeit\n",
    "\n",
    "def time_legal_moves():\n",
    "    board = Board()\n",
    "    for i in range(10):\n",
    "        legal_moves = board.legal_moves()\n",
    "        uci = legal_moves[0].uci()\n",
    "    return board\n",
    "\n",
    "def time_legal_moves_num():\n",
    "    board = Board()\n",
    "    for i in range(10):\n",
    "        legal_moves_num = board.legal_moves_num()\n",
    "    return board\n",
    "\n",
    "def time_legal_moves_uci():\n",
    "    board = Board()\n",
    "    for i in range(10):\n",
    "        legal_moves_uci = board.legal_moves_uci()\n",
    "    return board\n",
    "\n",
    "def time_legal_moves_tuple():\n",
    "    board = Board()\n",
    "    for i in range(10):\n",
    "        legal_moves_uci = board.legal_moves_tuple()\n",
    "    return board\n",
    "\n",
    "# time all three and print the results\n",
    "legal_moves = timeit.timeit(time_legal_moves, number=10000)\n",
    "legal_moves_num = timeit.timeit(time_legal_moves_num, number=10000)\n",
    "legal_moves_uci = timeit.timeit(time_legal_moves_uci, number=10000)\n",
    "legal_moves_tuple = timeit.timeit(time_legal_moves_tuple, number=10000)\n",
    "\n",
    "print(f\"legal_moves: {legal_moves}\")\n",
    "print(f\"legal_moves_num: {legal_moves_num}\")\n",
    "print(f\"legal_moves_uci: {legal_moves_uci}\")\n",
    "print(f\"legal_moves_tuple: {legal_moves_tuple}\")"
   ]
  }
 ],
 "metadata": {
  "kernelspec": {
   "display_name": "Python 3",
   "language": "python",
   "name": "python3"
  },
  "language_info": {
   "codemirror_mode": {
    "name": "ipython",
    "version": 3
   },
   "file_extension": ".py",
   "mimetype": "text/x-python",
   "name": "python",
   "nbconvert_exporter": "python",
   "pygments_lexer": "ipython3",
   "version": "3.10.12"
  }
 },
 "nbformat": 4,
 "nbformat_minor": 2
}
