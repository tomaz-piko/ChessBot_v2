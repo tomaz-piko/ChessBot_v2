{
 "cells": [
  {
   "cell_type": "code",
   "execution_count": 1,
   "metadata": {},
   "outputs": [
    {
     "name": "stderr",
     "output_type": "stream",
     "text": [
      "2025-01-14 17:09:07.747725: I tensorflow/core/platform/cpu_feature_guard.cc:182] This TensorFlow binary is optimized to use available CPU instructions in performance-critical operations.\n",
      "To enable the following instructions: AVX2 FMA, in other operations, rebuild TensorFlow with the appropriate compiler flags.\n",
      "2025-01-14 17:09:09.230162: I tensorflow/core/common_runtime/gpu/gpu_device.cc:1635] Created device /job:localhost/replica:0/task:0/device:GPU:0 with 6119 MB memory:  -> device: 0, name: NVIDIA GeForce RTX 2070 SUPER, pci bus id: 0000:26:00.0, compute capability: 7.5\n",
      "2025-01-14 17:09:09.842820: E tensorflow/compiler/tf2tensorrt/utils/trt_logger.cc:87] DefaultLogger 3: [runtime.cpp::~Runtime::346] Error Code 3: API Usage Error (Parameter check failed at: runtime/rt/runtime.cpp::~Runtime::346, condition: mEngineCounter.use_count() == 1. Destroying a runtime before destroying deserialized engines created by the runtime leads to undefined behavior.\n",
      ")\n"
     ]
    }
   ],
   "source": [
    "from utils import FakeTRTFunc\n",
    "from model import load_as_trt_model\n",
    "import chess.syzygy as syzygy\n",
    "\n",
    "use_fake = False\n",
    "if use_fake:\n",
    "    trt_func = FakeTRTFunc()\n",
    "else:\n",
    "    trt_func, _ = load_as_trt_model()\n",
    "tablebase = syzygy.open_tablebase(\"/home/tomaz/ChessBot_v2/syzygy/3-4-5\")"
   ]
  },
  {
   "cell_type": "code",
   "execution_count": 2,
   "metadata": {},
   "outputs": [
    {
     "name": "stdout",
     "output_type": "stream",
     "text": [
      "\n",
      "  +---+---+---+---+---+---+---+---+\n",
      "  |   |   |   |   |   |   |   |   | 8\n",
      "  +---+---+---+---+---+---+---+---+\n",
      "  |   |   |   | B |   |   |   |   | 7\n",
      "  +---+---+---+---+---+---+---+---+\n",
      "  |   | p |   | k |   |   |   |   | 6\n",
      "  +---+---+---+---+---+---+---+---+\n",
      "  |   |   |   |   |   |   |   | P | 5\n",
      "  +---+---+---+---+---+---+---+---+\n",
      "  |   |   |   |   |   |   |   |   | 4\n",
      "  +---+---+---+---+---+---+---+---+\n",
      "  |   |   |   |   |   |   |   |   | 3\n",
      "  +---+---+---+---+---+---+---+---+\n",
      "  |   |   |   |   |   |   |   |   | 2\n",
      "  +---+---+---+---+---+---+---+---+\n",
      "  |   |   |   | K |   |   |   |   | 1\n",
      "  +---+---+---+---+---+---+---+---+\n",
      "    a   b   c   d   e   f   g   h\n",
      "\n",
      "Fen: 8/3B4/1p1k4/7P/8/8/8/3K4 b - - 0 86\n",
      "Key: c8c02598546d1e4b\n",
      "Tablebase draw in 171 moves in 13.15 seconds\n"
     ]
    }
   ],
   "source": [
    "from selfplay import play_game\n",
    "from configs import selfplayConfig\n",
    "\n",
    "_, _, _ = play_game(trt_func, tablebase, 2)\n"
   ]
  },
  {
   "cell_type": "code",
   "execution_count": 1,
   "metadata": {},
   "outputs": [
    {
     "name": "stdout",
     "output_type": "stream",
     "text": [
      "\n",
      "  +---+---+---+---+---+---+---+---+\n",
      "  | r |   |   |   | r |   |   |   | 8\n",
      "  +---+---+---+---+---+---+---+---+\n",
      "  |   |   | P |   |   |   |   | k | 7\n",
      "  +---+---+---+---+---+---+---+---+\n",
      "  |   |   |   | B | b | b | q | p | 6\n",
      "  +---+---+---+---+---+---+---+---+\n",
      "  | p | p | Q |   |   | p | p |   | 5\n",
      "  +---+---+---+---+---+---+---+---+\n",
      "  |   |   |   |   | p | P | P |   | 4\n",
      "  +---+---+---+---+---+---+---+---+\n",
      "  |   | P |   |   |   |   |   |   | 3\n",
      "  +---+---+---+---+---+---+---+---+\n",
      "  | P |   | R |   |   | N |   | P | 2\n",
      "  +---+---+---+---+---+---+---+---+\n",
      "  |   |   |   | R |   |   | K |   | 1\n",
      "  +---+---+---+---+---+---+---+---+\n",
      "    a   b   c   d   e   f   g   h\n",
      "\n",
      "Fen: r3r3/2P4k/3Bbbqp/ppQ2pp1/4pPP1/1P6/P1R2N1P/3R2K1 w - - 0 1\n",
      "Key: 5a9e3985f34193a2\n",
      "[\"g1f1\", \"g1h1\", \"g1g2\", \"f2e4\", \"f2h1\", \"f2d3\", \"f2h3\", \"c5a3\", \"c5e3\", \"c5b4\", \"c5d4\", \"c5b6\", \"c5a7\", \"d6e5\", \"d6e7\", \"d6f8\", \"d1a1\", \"d1b1\", \"d1c1\", \"d1e1\", \"d1f1\", \"d1d2\", \"d1d3\", \"d1d4\", \"d1d5\", \"c2c1\", \"c2b2\", \"c2d2\", \"c2e2\", \"c2c3\", \"c2c4\", \"c5b5\", \"c5f5\", \"c5c3\", \"c5c4\", \"c5d5\", \"c5e5\", \"c5c6\", \"a2a3\", \"h2h3\", \"b3b4\", \"a2a4\", \"h2h4\", \"g4f5\", \"f4g5\", \"c7c8n\", \"c7c8b\", \"c7c8r\", \"c7c8q\"]\n"
     ]
    }
   ],
   "source": [
    "from rchess import Board\n",
    "board = Board(\"r3r3/2P4k/3Bbbqp/ppQ2pp1/4pPP1/1P6/P1R2N1P/3R2K1 w - -\")\n",
    "print(board)\n",
    "print(board.legal_moves())"
   ]
  },
  {
   "cell_type": "code",
   "execution_count": 9,
   "metadata": {},
   "outputs": [
    {
     "data": {
      "text/plain": [
       "'2025-01-20_21:24:17.870'"
      ]
     },
     "execution_count": 9,
     "metadata": {},
     "output_type": "execute_result"
    }
   ],
   "source": [
    "from datetime import datetime\n",
    "datetime.now().strftime('%F_%T.%f')[:-3]"
   ]
  }
 ],
 "metadata": {
  "kernelspec": {
   "display_name": "Python 3",
   "language": "python",
   "name": "python3"
  },
  "language_info": {
   "codemirror_mode": {
    "name": "ipython",
    "version": 3
   },
   "file_extension": ".py",
   "mimetype": "text/x-python",
   "name": "python",
   "nbconvert_exporter": "python",
   "pygments_lexer": "ipython3",
   "version": "3.10.12"
  }
 },
 "nbformat": 4,
 "nbformat_minor": 2
}
