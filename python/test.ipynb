{
 "cells": [
  {
   "cell_type": "code",
   "execution_count": 1,
   "metadata": {},
   "outputs": [
    {
     "name": "stderr",
     "output_type": "stream",
     "text": [
      "2025-01-21 18:57:19.236216: I tensorflow/core/platform/cpu_feature_guard.cc:182] This TensorFlow binary is optimized to use available CPU instructions in performance-critical operations.\n",
      "To enable the following instructions: AVX2 FMA, in other operations, rebuild TensorFlow with the appropriate compiler flags.\n"
     ]
    }
   ],
   "source": [
    "from utils import FakeTRTFunc\n",
    "from model import load_as_trt_model\n",
    "import chess.syzygy as syzygy\n",
    "\n",
    "use_fake = True\n",
    "if use_fake:\n",
    "    trt_func = FakeTRTFunc()\n",
    "else:\n",
    "    trt_func, _ = load_as_trt_model()\n",
    "tablebase = syzygy.open_tablebase(\"/home/tomaz/ChessBot_v2/syzygy/3-4-5\")"
   ]
  },
  {
   "cell_type": "code",
   "execution_count": 2,
   "metadata": {},
   "outputs": [
    {
     "name": "stdout",
     "output_type": "stream",
     "text": [
      "\n",
      "  +---+---+---+---+---+---+---+---+\n",
      "  |   |   |   |   |   |   |   |   | 8\n",
      "  +---+---+---+---+---+---+---+---+\n",
      "  | k | Q |   |   |   |   |   |   | 7\n",
      "  +---+---+---+---+---+---+---+---+\n",
      "  | B |   |   |   |   |   |   |   | 6\n",
      "  +---+---+---+---+---+---+---+---+\n",
      "  |   |   |   |   |   |   |   |   | 5\n",
      "  +---+---+---+---+---+---+---+---+\n",
      "  | p | R | P |   |   |   |   | P | 4\n",
      "  +---+---+---+---+---+---+---+---+\n",
      "  | P |   | K |   |   |   |   | P | 3\n",
      "  +---+---+---+---+---+---+---+---+\n",
      "  |   |   |   | p |   |   |   |   | 2\n",
      "  +---+---+---+---+---+---+---+---+\n",
      "  | R | N |   |   |   |   |   |   | 1\n",
      "  +---+---+---+---+---+---+---+---+\n",
      "    a   b   c   d   e   f   g   h\n",
      "\n",
      "Fen: 8/kQ6/B7/8/pRP4P/P1K4P/3p4/RN6 b - - 1 87\n",
      "Key: 4cf841524c3e81d5\n",
      "White wins by checkmate in 173 moves in 17.26 seconds\n"
     ]
    },
    {
     "ename": "ValueError",
     "evalue": "not enough values to unpack (expected 3, got 2)",
     "output_type": "error",
     "traceback": [
      "\u001b[0;31m---------------------------------------------------------------------------\u001b[0m",
      "\u001b[0;31mValueError\u001b[0m                                Traceback (most recent call last)",
      "Cell \u001b[0;32mIn[2], line 4\u001b[0m\n\u001b[1;32m      1\u001b[0m \u001b[38;5;28;01mfrom\u001b[39;00m \u001b[38;5;21;01mselfplay\u001b[39;00m \u001b[38;5;28;01mimport\u001b[39;00m play_game\n\u001b[1;32m      2\u001b[0m \u001b[38;5;28;01mfrom\u001b[39;00m \u001b[38;5;21;01mconfigs\u001b[39;00m \u001b[38;5;28;01mimport\u001b[39;00m selfplayConfig\n\u001b[0;32m----> 4\u001b[0m _, _, _ \u001b[38;5;241m=\u001b[39m play_game(trt_func, tablebase, \u001b[38;5;241m2\u001b[39m)\n",
      "\u001b[0;31mValueError\u001b[0m: not enough values to unpack (expected 3, got 2)"
     ]
    }
   ],
   "source": [
    "from selfplay import play_game\n",
    "from configs import selfplayConfig\n",
    "\n",
    "_, (_, _) = play_game(trt_func, tablebase, 2)\n"
   ]
  },
  {
   "cell_type": "code",
   "execution_count": 1,
   "metadata": {},
   "outputs": [
    {
     "name": "stdout",
     "output_type": "stream",
     "text": [
      "\n",
      "  +---+---+---+---+---+---+---+---+\n",
      "  | r |   |   |   | r |   |   |   | 8\n",
      "  +---+---+---+---+---+---+---+---+\n",
      "  |   |   | P |   |   |   |   | k | 7\n",
      "  +---+---+---+---+---+---+---+---+\n",
      "  |   |   |   | B | b | b | q | p | 6\n",
      "  +---+---+---+---+---+---+---+---+\n",
      "  | p | p | Q |   |   | p | p |   | 5\n",
      "  +---+---+---+---+---+---+---+---+\n",
      "  |   |   |   |   | p | P | P |   | 4\n",
      "  +---+---+---+---+---+---+---+---+\n",
      "  |   | P |   |   |   |   |   |   | 3\n",
      "  +---+---+---+---+---+---+---+---+\n",
      "  | P |   | R |   |   | N |   | P | 2\n",
      "  +---+---+---+---+---+---+---+---+\n",
      "  |   |   |   | R |   |   | K |   | 1\n",
      "  +---+---+---+---+---+---+---+---+\n",
      "    a   b   c   d   e   f   g   h\n",
      "\n",
      "Fen: r3r3/2P4k/3Bbbqp/ppQ2pp1/4pPP1/1P6/P1R2N1P/3R2K1 w - - 0 1\n",
      "Key: 5a9e3985f34193a2\n",
      "[\"g1f1\", \"g1h1\", \"g1g2\", \"f2e4\", \"f2h1\", \"f2d3\", \"f2h3\", \"c5a3\", \"c5e3\", \"c5b4\", \"c5d4\", \"c5b6\", \"c5a7\", \"d6e5\", \"d6e7\", \"d6f8\", \"d1a1\", \"d1b1\", \"d1c1\", \"d1e1\", \"d1f1\", \"d1d2\", \"d1d3\", \"d1d4\", \"d1d5\", \"c2c1\", \"c2b2\", \"c2d2\", \"c2e2\", \"c2c3\", \"c2c4\", \"c5b5\", \"c5f5\", \"c5c3\", \"c5c4\", \"c5d5\", \"c5e5\", \"c5c6\", \"a2a3\", \"h2h3\", \"b3b4\", \"a2a4\", \"h2h4\", \"g4f5\", \"f4g5\", \"c7c8n\", \"c7c8b\", \"c7c8r\", \"c7c8q\"]\n"
     ]
    }
   ],
   "source": [
    "from rchess import Board\n",
    "board = Board(\"r3r3/2P4k/3Bbbqp/ppQ2pp1/4pPP1/1P6/P1R2N1P/3R2K1 w - -\")\n",
    "print(board)\n",
    "print(board.legal_moves())"
   ]
  },
  {
   "cell_type": "code",
   "execution_count": null,
   "metadata": {},
   "outputs": [
    {
     "ename": "KeyboardInterrupt",
     "evalue": "",
     "output_type": "error",
     "traceback": [
      "\u001b[0;31m---------------------------------------------------------------------------\u001b[0m",
      "\u001b[0;31mKeyboardInterrupt\u001b[0m                         Traceback (most recent call last)",
      "Cell \u001b[0;32mIn[2], line 3\u001b[0m\n\u001b[1;32m      1\u001b[0m \u001b[38;5;28;01mfrom\u001b[39;00m \u001b[38;5;21;01mselfplay\u001b[39;00m \u001b[38;5;28;01mimport\u001b[39;00m run_selfplay\n\u001b[0;32m----> 3\u001b[0m \u001b[43mrun_selfplay\u001b[49m\u001b[43m(\u001b[49m\n\u001b[1;32m      4\u001b[0m \u001b[43m    \u001b[49m\u001b[43mnum_agents\u001b[49m\u001b[38;5;241;43m=\u001b[39;49m\u001b[38;5;241;43m1\u001b[39;49m\u001b[43m,\u001b[49m\n\u001b[1;32m      5\u001b[0m \u001b[43m    \u001b[49m\u001b[43mnum_games\u001b[49m\u001b[38;5;241;43m=\u001b[39;49m\u001b[38;5;241;43m10\u001b[39;49m\u001b[43m,\u001b[49m\n\u001b[1;32m      6\u001b[0m \u001b[43m    \u001b[49m\u001b[43mbuffer_size\u001b[49m\u001b[38;5;241;43m=\u001b[39;49m\u001b[38;5;241;43m64\u001b[39;49m\u001b[43m,\u001b[49m\n\u001b[1;32m      7\u001b[0m \u001b[43m    \u001b[49m\u001b[43muse_fake_model\u001b[49m\u001b[38;5;241;43m=\u001b[39;49m\u001b[38;5;28;43;01mTrue\u001b[39;49;00m\n\u001b[1;32m      8\u001b[0m \u001b[43m)\u001b[49m\n",
      "File \u001b[0;32m~/ChessBot_v2/python/selfplay/__init__.py:74\u001b[0m, in \u001b[0;36mrun_selfplay\u001b[0;34m(num_agents, num_games, buffer_size, use_fake_model)\u001b[0m\n\u001b[1;32m     71\u001b[0m     p\u001b[38;5;241m.\u001b[39mstart()\n\u001b[1;32m     73\u001b[0m \u001b[38;5;28;01mfor\u001b[39;00m p \u001b[38;5;129;01min\u001b[39;00m processes\u001b[38;5;241m.\u001b[39mvalues():\n\u001b[0;32m---> 74\u001b[0m     \u001b[43mp\u001b[49m\u001b[38;5;241;43m.\u001b[39;49m\u001b[43mjoin\u001b[49m\u001b[43m(\u001b[49m\u001b[43m)\u001b[49m\n",
      "File \u001b[0;32m/usr/lib/python3.10/multiprocessing/process.py:149\u001b[0m, in \u001b[0;36mBaseProcess.join\u001b[0;34m(self, timeout)\u001b[0m\n\u001b[1;32m    147\u001b[0m \u001b[38;5;28;01massert\u001b[39;00m \u001b[38;5;28mself\u001b[39m\u001b[38;5;241m.\u001b[39m_parent_pid \u001b[38;5;241m==\u001b[39m os\u001b[38;5;241m.\u001b[39mgetpid(), \u001b[38;5;124m'\u001b[39m\u001b[38;5;124mcan only join a child process\u001b[39m\u001b[38;5;124m'\u001b[39m\n\u001b[1;32m    148\u001b[0m \u001b[38;5;28;01massert\u001b[39;00m \u001b[38;5;28mself\u001b[39m\u001b[38;5;241m.\u001b[39m_popen \u001b[38;5;129;01mis\u001b[39;00m \u001b[38;5;129;01mnot\u001b[39;00m \u001b[38;5;28;01mNone\u001b[39;00m, \u001b[38;5;124m'\u001b[39m\u001b[38;5;124mcan only join a started process\u001b[39m\u001b[38;5;124m'\u001b[39m\n\u001b[0;32m--> 149\u001b[0m res \u001b[38;5;241m=\u001b[39m \u001b[38;5;28;43mself\u001b[39;49m\u001b[38;5;241;43m.\u001b[39;49m\u001b[43m_popen\u001b[49m\u001b[38;5;241;43m.\u001b[39;49m\u001b[43mwait\u001b[49m\u001b[43m(\u001b[49m\u001b[43mtimeout\u001b[49m\u001b[43m)\u001b[49m\n\u001b[1;32m    150\u001b[0m \u001b[38;5;28;01mif\u001b[39;00m res \u001b[38;5;129;01mis\u001b[39;00m \u001b[38;5;129;01mnot\u001b[39;00m \u001b[38;5;28;01mNone\u001b[39;00m:\n\u001b[1;32m    151\u001b[0m     _children\u001b[38;5;241m.\u001b[39mdiscard(\u001b[38;5;28mself\u001b[39m)\n",
      "File \u001b[0;32m/usr/lib/python3.10/multiprocessing/popen_fork.py:43\u001b[0m, in \u001b[0;36mPopen.wait\u001b[0;34m(self, timeout)\u001b[0m\n\u001b[1;32m     41\u001b[0m             \u001b[38;5;28;01mreturn\u001b[39;00m \u001b[38;5;28;01mNone\u001b[39;00m\n\u001b[1;32m     42\u001b[0m     \u001b[38;5;66;03m# This shouldn't block if wait() returned successfully.\u001b[39;00m\n\u001b[0;32m---> 43\u001b[0m     \u001b[38;5;28;01mreturn\u001b[39;00m \u001b[38;5;28;43mself\u001b[39;49m\u001b[38;5;241;43m.\u001b[39;49m\u001b[43mpoll\u001b[49m\u001b[43m(\u001b[49m\u001b[43mos\u001b[49m\u001b[38;5;241;43m.\u001b[39;49m\u001b[43mWNOHANG\u001b[49m\u001b[43m \u001b[49m\u001b[38;5;28;43;01mif\u001b[39;49;00m\u001b[43m \u001b[49m\u001b[43mtimeout\u001b[49m\u001b[43m \u001b[49m\u001b[38;5;241;43m==\u001b[39;49m\u001b[43m \u001b[49m\u001b[38;5;241;43m0.0\u001b[39;49m\u001b[43m \u001b[49m\u001b[38;5;28;43;01melse\u001b[39;49;00m\u001b[43m \u001b[49m\u001b[38;5;241;43m0\u001b[39;49m\u001b[43m)\u001b[49m\n\u001b[1;32m     44\u001b[0m \u001b[38;5;28;01mreturn\u001b[39;00m \u001b[38;5;28mself\u001b[39m\u001b[38;5;241m.\u001b[39mreturncode\n",
      "File \u001b[0;32m/usr/lib/python3.10/multiprocessing/popen_fork.py:27\u001b[0m, in \u001b[0;36mPopen.poll\u001b[0;34m(self, flag)\u001b[0m\n\u001b[1;32m     25\u001b[0m \u001b[38;5;28;01mif\u001b[39;00m \u001b[38;5;28mself\u001b[39m\u001b[38;5;241m.\u001b[39mreturncode \u001b[38;5;129;01mis\u001b[39;00m \u001b[38;5;28;01mNone\u001b[39;00m:\n\u001b[1;32m     26\u001b[0m     \u001b[38;5;28;01mtry\u001b[39;00m:\n\u001b[0;32m---> 27\u001b[0m         pid, sts \u001b[38;5;241m=\u001b[39m \u001b[43mos\u001b[49m\u001b[38;5;241;43m.\u001b[39;49m\u001b[43mwaitpid\u001b[49m\u001b[43m(\u001b[49m\u001b[38;5;28;43mself\u001b[39;49m\u001b[38;5;241;43m.\u001b[39;49m\u001b[43mpid\u001b[49m\u001b[43m,\u001b[49m\u001b[43m \u001b[49m\u001b[43mflag\u001b[49m\u001b[43m)\u001b[49m\n\u001b[1;32m     28\u001b[0m     \u001b[38;5;28;01mexcept\u001b[39;00m \u001b[38;5;167;01mOSError\u001b[39;00m:\n\u001b[1;32m     29\u001b[0m         \u001b[38;5;66;03m# Child process not yet created. See #1731717\u001b[39;00m\n\u001b[1;32m     30\u001b[0m         \u001b[38;5;66;03m# e.errno == errno.ECHILD == 10\u001b[39;00m\n\u001b[1;32m     31\u001b[0m         \u001b[38;5;28;01mreturn\u001b[39;00m \u001b[38;5;28;01mNone\u001b[39;00m\n",
      "\u001b[0;31mKeyboardInterrupt\u001b[0m: "
     ]
    },
    {
     "name": "stderr",
     "output_type": "stream",
     "text": [
      "Process Process-4:\n",
      "Traceback (most recent call last):\n",
      "  File \"/usr/lib/python3.10/multiprocessing/process.py\", line 314, in _bootstrap\n",
      "    self.run()\n",
      "  File \"/usr/lib/python3.10/multiprocessing/process.py\", line 108, in run\n",
      "    self._target(*self._args, **self._kwargs)\n",
      "  File \"/home/tomaz/ChessBot_v2/python/selfplay/__init__.py\", line 60, in play_games\n",
      "    games_count.value += 1\n",
      "  File \"/usr/lib/python3.10/multiprocessing/managers.py\", line 1137, in get\n",
      "    return self._callmethod('get')\n",
      "  File \"/usr/lib/python3.10/multiprocessing/managers.py\", line 817, in _callmethod\n",
      "    conn.send((self._id, methodname, args, kwds))\n",
      "  File \"/usr/lib/python3.10/multiprocessing/connection.py\", line 206, in send\n",
      "    self._send_bytes(_ForkingPickler.dumps(obj))\n",
      "  File \"/usr/lib/python3.10/multiprocessing/connection.py\", line 411, in _send_bytes\n",
      "    self._send(header + buf)\n",
      "  File \"/usr/lib/python3.10/multiprocessing/connection.py\", line 368, in _send\n",
      "    n = write(self._handle, buf)\n",
      "BrokenPipeError: [Errno 32] Broken pipe\n"
     ]
    }
   ],
   "source": [
    "from selfplay import run_selfplay\n",
    "\n",
    "run_selfplay(\n",
    "    num_agents=1,\n",
    "    num_games=10,\n",
    "    buffer_size=64,\n",
    "    use_fake_model=True\n",
    ")"
   ]
  }
 ],
 "metadata": {
  "kernelspec": {
   "display_name": "Python 3",
   "language": "python",
   "name": "python3"
  },
  "language_info": {
   "codemirror_mode": {
    "name": "ipython",
    "version": 3
   },
   "file_extension": ".py",
   "mimetype": "text/x-python",
   "name": "python",
   "nbconvert_exporter": "python",
   "pygments_lexer": "ipython3",
   "version": "3.10.12"
  }
 },
 "nbformat": 4,
 "nbformat_minor": 2
}
