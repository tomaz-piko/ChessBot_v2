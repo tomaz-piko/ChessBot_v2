{
 "cells": [
  {
   "cell_type": "code",
   "execution_count": 2,
   "metadata": {},
   "outputs": [],
   "source": [
    "import numpy as np\n",
    "import json\n",
    "import time\n",
    "import sys\n",
    "import redis\n",
    "import msgpack\n",
    "from multiprocessing import Process, Manager"
   ]
  },
  {
   "cell_type": "code",
   "execution_count": 3,
   "metadata": {},
   "outputs": [
    {
     "data": {
      "text/plain": [
       "(array([0.56664246, 0.5617776 , 0.9995359 , ..., 0.7664546 , 0.9325946 ,\n",
       "        0.69126344], dtype=float32),\n",
       " array([0.91439945], dtype=float32))"
      ]
     },
     "execution_count": 3,
     "metadata": {},
     "output_type": "execute_result"
    }
   ],
   "source": [
    "# Random array of floats sized 1858\n",
    "pool = redis.ConnectionPool(host='localhost', port=6379, db=0)\n",
    "#r = redis.Redis(connection_pool=pool)\n",
    "fake_policy = np.random.rand(1858).astype(np.float32)\n",
    "fake_value = np.random.rand(1).astype(np.float32)\n",
    "fake_policy, fake_value"
   ]
  },
  {
   "cell_type": "code",
   "execution_count": 4,
   "metadata": {},
   "outputs": [
    {
     "name": "stdout",
     "output_type": "stream",
     "text": [
      "Average time to serialize:  0.00033260107040405273\n"
     ]
    }
   ],
   "source": [
    "times = []\n",
    "for i in range(100):\n",
    "    t1 = time.time()\n",
    "    fake_policy_quantized = np.round(fake_policy * 255).astype(np.uint16)\n",
    "    json_str = json.dumps({\n",
    "        \"policy\": fake_policy_quantized.tolist(),\n",
    "        \"value\": fake_value.tolist()\n",
    "    })\n",
    "    r.set(\"test\", json_str)\n",
    "    t2 = time.time()\n",
    "    times.append(t2 - t1)\n",
    "print(\"Average time to serialize: \", np.mean(times))"
   ]
  },
  {
   "cell_type": "code",
   "execution_count": 4,
   "metadata": {},
   "outputs": [
    {
     "name": "stdout",
     "output_type": "stream",
     "text": [
      "Average time to deserialize:  0.0002930087804794312\n"
     ]
    }
   ],
   "source": [
    "times = []\n",
    "for i in range(100):\n",
    "    t1 = time.time()\n",
    "    json_redis = r.get(\"test\")\n",
    "    data = json.loads(json_redis)\n",
    "    fake_policy_out = np.array(data[\"policy\"], dtype=np.uint16).astype(np.float32) / 255\n",
    "    fake_value_out = np.array(data[\"value\"], dtype=np.float32)\n",
    "    t2 = time.time()\n",
    "    times.append(t2 - t1)\n",
    "print(\"Average time to deserialize: \", np.mean(times))"
   ]
  },
  {
   "cell_type": "code",
   "execution_count": 5,
   "metadata": {},
   "outputs": [
    {
     "data": {
      "text/plain": [
       "(7544, 8600, 8584, 232, 7544)"
      ]
     },
     "execution_count": 5,
     "metadata": {},
     "output_type": "execute_result"
    }
   ],
   "source": [
    "sys.getsizeof(fake_policy), sys.getsizeof(json_str), sys.getsizeof(json_redis), sys.getsizeof(data), sys.getsizeof(fake_policy_out)"
   ]
  },
  {
   "cell_type": "code",
   "execution_count": 26,
   "metadata": {},
   "outputs": [
    {
     "name": "stdout",
     "output_type": "stream",
     "text": [
      "Average time to serialize:  0.00032272100448608396\n"
     ]
    }
   ],
   "source": [
    "times = []\n",
    "for i in range(100):\n",
    "    t1 = time.time()\n",
    "    fake_policy_quantized = np.round(fake_policy * 255).astype(np.uint16)\n",
    "    package = msgpack.dumps({\n",
    "        \"policy\": fake_policy.tolist(),\n",
    "        \"value\": fake_value.tolist()\n",
    "    })\n",
    "    r.set(\"test2\", package)\n",
    "    t2 = time.time()\n",
    "    times.append(t2 - t1)\n",
    "print(\"Average time to serialize: \", np.mean(times))"
   ]
  },
  {
   "cell_type": "code",
   "execution_count": 27,
   "metadata": {},
   "outputs": [
    {
     "name": "stdout",
     "output_type": "stream",
     "text": [
      "Average time to deserialize:  0.00036874055862426755\n"
     ]
    }
   ],
   "source": [
    "times = []\n",
    "for i in range(100):\n",
    "    t1 = time.time()\n",
    "    package_redis = r.get(\"test2\")\n",
    "    data = msgpack.loads(package_redis)\n",
    "    fake_policy_out = np.array(data[\"policy\"], dtype=np.uint16).astype(np.float32) / 255\n",
    "    fake_value_out = np.array(data[\"value\"], dtype=np.float32)\n",
    "    t2 = time.time()\n",
    "    times.append(t2 - t1)\n",
    "print(\"Average time to deserialize: \", np.mean(times))"
   ]
  },
  {
   "cell_type": "code",
   "execution_count": 25,
   "metadata": {},
   "outputs": [
    {
     "data": {
      "text/plain": [
       "(7544, 16782, 2856, 232, 7544)"
      ]
     },
     "execution_count": 25,
     "metadata": {},
     "output_type": "execute_result"
    }
   ],
   "source": [
    "sys.getsizeof(fake_policy), sys.getsizeof(package), sys.getsizeof(package_redis), sys.getsizeof(data), sys.getsizeof(fake_policy_out)"
   ]
  },
  {
   "cell_type": "code",
   "execution_count": 11,
   "metadata": {},
   "outputs": [
    {
     "data": {
      "text/plain": [
       "(array([0.9254902 , 0.13333334, 0.9137255 , ..., 0.84313726, 0.1764706 ,\n",
       "        0.7764706 ], dtype=float32),\n",
       " array([0.44071597], dtype=float32))"
      ]
     },
     "execution_count": 11,
     "metadata": {},
     "output_type": "execute_result"
    }
   ],
   "source": [
    "fake_policy_out, fake_value_out"
   ]
  },
  {
   "cell_type": "code",
   "execution_count": 15,
   "metadata": {},
   "outputs": [
    {
     "name": "stdout",
     "output_type": "stream",
     "text": [
      "Average time to serialize: Average time to deserialize:   0.000284445285797119130.00037267684936523435\n",
      "\n",
      "0 48\n"
     ]
    }
   ],
   "source": [
    "\n",
    "def test_write(cache, pool):\n",
    "    r = redis.Redis(connection_pool=pool)\n",
    "    times = []\n",
    "    for i in range(100):\n",
    "        t1 = time.time()\n",
    "        fake_policy_quantized = np.round(fake_policy * 255).astype(np.uint16)\n",
    "        json_str = json.dumps({\n",
    "            \"policy\": fake_policy_quantized.tolist(),\n",
    "            \"value\": fake_value.tolist()\n",
    "        })\n",
    "        r.set(\"test\", json_str)\n",
    "        t2 = time.time()\n",
    "        times.append(t2 - t1)\n",
    "    print(\"Average time to serialize: \", np.mean(times))\n",
    "\n",
    "def test_read(cache, pool):\n",
    "    r = redis.Redis(connection_pool=pool)\n",
    "    times = []\n",
    "    for i in range(100):\n",
    "        t1 = time.time()\n",
    "        package_redis = r.get(\"test2\")\n",
    "        data = msgpack.loads(package_redis)\n",
    "        fake_policy_out = np.array(data[\"policy\"], dtype=np.uint16).astype(np.float32) / 255\n",
    "        fake_value_out = np.array(data[\"value\"], dtype=np.float32)\n",
    "        t2 = time.time()\n",
    "        times.append(t2 - t1)\n",
    "    print(\"Average time to deserialize: \", np.mean(times))\n",
    "\n",
    "with Manager() as manager:\n",
    "    cache = manager.dict()\n",
    "    p1 = Process(target=test_write, args=(cache, pool))\n",
    "    p2 = Process(target=test_read, args=(cache, pool))\n",
    "    p1.start()\n",
    "    p2.start()\n",
    "    p1.join()\n",
    "    p2.join()\n",
    "    print(len(cache), sys.getsizeof(cache))"
   ]
  },
  {
   "cell_type": "code",
   "execution_count": 19,
   "metadata": {},
   "outputs": [
    {
     "name": "stdout",
     "output_type": "stream",
     "text": [
      "Average time to fetch None:  7.092714309692383e-05\n"
     ]
    }
   ],
   "source": [
    "r = redis.Redis(connection_pool=pool)\n",
    "times = []\n",
    "for i in range(100):\n",
    "    t1 = time.time()\n",
    "    n = r.get(\"test6\")\n",
    "    t2 = time.time()\n",
    "    times.append(t2 - t1)\n",
    "print(\"Average time to fetch None: \", np.mean(times))"
   ]
  },
  {
   "cell_type": "code",
   "execution_count": 1,
   "metadata": {},
   "outputs": [
    {
     "name": "stderr",
     "output_type": "stream",
     "text": [
      "2025-01-11 22:39:59.542684: I tensorflow/core/platform/cpu_feature_guard.cc:182] This TensorFlow binary is optimized to use available CPU instructions in performance-critical operations.\n",
      "To enable the following instructions: AVX2 FMA, in other operations, rebuild TensorFlow with the appropriate compiler flags.\n"
     ]
    },
    {
     "name": "stdout",
     "output_type": "stream",
     "text": [
      "\n",
      "  +---+---+---+---+---+---+---+---+\n",
      "  |   |   |   | k |   |   | n | b | 8\n",
      "  +---+---+---+---+---+---+---+---+\n",
      "  |   |   | r |   |   | P |   |   | 7\n",
      "  +---+---+---+---+---+---+---+---+\n",
      "  |   | R | R |   |   |   |   |   | 6\n",
      "  +---+---+---+---+---+---+---+---+\n",
      "  | p |   |   |   |   | P | P |   | 5\n",
      "  +---+---+---+---+---+---+---+---+\n",
      "  | P |   | P |   | N | K |   |   | 4\n",
      "  +---+---+---+---+---+---+---+---+\n",
      "  |   |   |   |   |   | q |   | r | 3\n",
      "  +---+---+---+---+---+---+---+---+\n",
      "  |   |   |   | P |   |   |   |   | 2\n",
      "  +---+---+---+---+---+---+---+---+\n",
      "  |   |   |   |   |   |   |   |   | 1\n",
      "  +---+---+---+---+---+---+---+---+\n",
      "    a   b   c   d   e   f   g   h\n",
      "\n",
      "Fen: 3k2nb/2r2P2/1RR5/p4PP1/P1P1NK2/5q1r/3P4/8 w - - 1 62\n",
      "Key: 70d23d86cd206d18\n",
      "Black wins by checkmate in 122 moves in 14.10 seconds\n"
     ]
    }
   ],
   "source": [
    "from selfplay import play_game\n",
    "from utils import FakeTRTFunc\n",
    "from configs import selfplayConfig\n",
    "\n",
    "\n",
    "trt_func = FakeTRTFunc()\n",
    "_, _, _ = play_game(trt_func, 2)\n"
   ]
  },
  {
   "cell_type": "code",
   "execution_count": 14,
   "metadata": {},
   "outputs": [
    {
     "name": "stdout",
     "output_type": "stream",
     "text": [
      "Time to save the whole array: 0.007873 seconds\n",
      "Time to save each element from all three arrays in a loop: 0.088979 seconds\n"
     ]
    }
   ],
   "source": [
    "import time\n",
    "images_np = np.array(images, dtype=np.int64)\n",
    "statistics_np = np.array(statistics, dtype=np.float32)\n",
    "values_np = np.array(values, dtype=np.int64)\n",
    "\n",
    "# Measure time to save the whole array\n",
    "start_time = time.time()\n",
    "np.savez('arrays.npz', images=images_np, statistics=statistics_np, values=values_np)\n",
    "whole_save_time = time.time() - start_time\n",
    "\n",
    "print(f\"Time to save the whole array: {whole_save_time:.6f} seconds\")\n",
    "\n",
    "# Measure time to save each element from all three arrays in a loop\n",
    "start_time = time.time()\n",
    "for i in range(len(images_np)):\n",
    "    np.savez(f'array_{i}.npy', images=images_np[i], statistics=statistics_np[i], values=values_np[i])\n",
    "loop_save_time = time.time() - start_time\n",
    "\n",
    "print(f\"Time to save each element from all three arrays in a loop: {loop_save_time:.6f} seconds\")"
   ]
  },
  {
   "cell_type": "code",
   "execution_count": 17,
   "metadata": {},
   "outputs": [
    {
     "data": {
      "text/plain": [
       "(10, 5)"
      ]
     },
     "execution_count": 17,
     "metadata": {},
     "output_type": "execute_result"
    }
   ],
   "source": [
    "import numpy as np\n",
    "\n",
    "neki = []\n",
    "for i in range(10):\n",
    "    neki.append(np.array([1, 2, 3, 4, 5], dtype=np.int64))\n",
    "\n",
    "neki = np.array(neki, dtype=np.int64)\n",
    "neki.shape"
   ]
  },
  {
   "cell_type": "code",
   "execution_count": null,
   "metadata": {},
   "outputs": [],
   "source": [
    "\n",
    "play_game"
   ]
  }
 ],
 "metadata": {
  "kernelspec": {
   "display_name": "Python 3",
   "language": "python",
   "name": "python3"
  },
  "language_info": {
   "codemirror_mode": {
    "name": "ipython",
    "version": 3
   },
   "file_extension": ".py",
   "mimetype": "text/x-python",
   "name": "python",
   "nbconvert_exporter": "python",
   "pygments_lexer": "ipython3",
   "version": "3.10.12"
  }
 },
 "nbformat": 4,
 "nbformat_minor": 2
}
