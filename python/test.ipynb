{
 "cells": [
  {
   "cell_type": "code",
   "execution_count": 1,
   "metadata": {},
   "outputs": [
    {
     "name": "stderr",
     "output_type": "stream",
     "text": [
      "2025-01-22 21:25:15.326046: I tensorflow/core/platform/cpu_feature_guard.cc:182] This TensorFlow binary is optimized to use available CPU instructions in performance-critical operations.\n",
      "To enable the following instructions: AVX2 FMA, in other operations, rebuild TensorFlow with the appropriate compiler flags.\n"
     ]
    }
   ],
   "source": [
    "from utils import FakeTRTFunc\n",
    "from model import load_as_trt_model\n",
    "import chess.syzygy as syzygy\n",
    "\n",
    "use_fake = True\n",
    "if use_fake:\n",
    "    trt_func = FakeTRTFunc()\n",
    "else:\n",
    "    trt_func, _ = load_as_trt_model()\n",
    "tablebase = syzygy.open_tablebase(\"/home/tomaz/ChessBot_v2/syzygy/3-4-5\")"
   ]
  },
  {
   "cell_type": "code",
   "execution_count": 5,
   "metadata": {},
   "outputs": [
    {
     "name": "stdout",
     "output_type": "stream",
     "text": [
      "First timestamp: 25/01 19:36:18\n",
      "Second timestamp: 25/01 19:36:23\n",
      "Difference: 0 hours, 0 minutes, 5 seconds\n"
     ]
    }
   ],
   "source": [
    "from datetime import datetime\n",
    "import time\n",
    "# Create the first timestamp\n",
    "timestamp1 = datetime.now()\n",
    "formatted_timestamp1 = timestamp1.strftime(\"%d/%m %H:%M:%S\")\n",
    "print(\"First timestamp:\", formatted_timestamp1)\n",
    "\n",
    "# Sleep for 5 seconds\n",
    "time.sleep(5)\n",
    "\n",
    "# Create the second timestamp\n",
    "timestamp2 = datetime.now()\n",
    "formatted_timestamp2 = timestamp2.strftime(\"%d/%m %H:%M:%S\")\n",
    "print(\"Second timestamp:\", formatted_timestamp2)\n",
    "\n",
    "# Calculate the difference\n",
    "time_difference = timestamp2 - timestamp1\n",
    "hours, remainder = divmod(time_difference.total_seconds(), 3600)\n",
    "minutes, seconds = divmod(remainder, 60)\n",
    "print(f\"Difference: {int(hours)} hours, {int(minutes)} minutes, {int(seconds)} seconds\")"
   ]
  },
  {
   "cell_type": "code",
   "execution_count": 2,
   "metadata": {},
   "outputs": [
    {
     "name": "stdout",
     "output_type": "stream",
     "text": [
      "\n",
      "  +---+---+---+---+---+---+---+---+\n",
      "  |   | k |   |   |   |   |   |   | 8\n",
      "  +---+---+---+---+---+---+---+---+\n",
      "  |   |   |   |   |   |   |   |   | 7\n",
      "  +---+---+---+---+---+---+---+---+\n",
      "  |   |   |   |   |   |   |   |   | 6\n",
      "  +---+---+---+---+---+---+---+---+\n",
      "  |   |   |   |   |   |   |   |   | 5\n",
      "  +---+---+---+---+---+---+---+---+\n",
      "  |   |   |   |   | P |   |   | B | 4\n",
      "  +---+---+---+---+---+---+---+---+\n",
      "  |   |   | K |   |   |   |   |   | 3\n",
      "  +---+---+---+---+---+---+---+---+\n",
      "  |   |   |   |   | R |   |   |   | 2\n",
      "  +---+---+---+---+---+---+---+---+\n",
      "  |   |   |   |   |   |   |   |   | 1\n",
      "  +---+---+---+---+---+---+---+---+\n",
      "    a   b   c   d   e   f   g   h\n",
      "\n",
      "Fen: 1k6/8/8/8/4P2B/2K5/4R3/8 b - - 0 171\n",
      "Key: b05c9d7d7042536d\n",
      "White wins by tablebase in 341 moves in 33.79 seconds\n"
     ]
    }
   ],
   "source": [
    "from selfplay import play_game\n",
    "from mcts import MCTS\n",
    "from configs import selfplayConfig\n",
    "\n",
    "mctsSearch = MCTS(selfplayConfig)\n",
    "_, (_, _) = play_game(mctsSearch, trt_func, tablebase, 2)"
   ]
  },
  {
   "cell_type": "code",
   "execution_count": 1,
   "metadata": {},
   "outputs": [
    {
     "name": "stderr",
     "output_type": "stream",
     "text": [
      "2025-01-25 19:31:38.696908: I tensorflow/core/platform/cpu_feature_guard.cc:182] This TensorFlow binary is optimized to use available CPU instructions in performance-critical operations.\n",
      "To enable the following instructions: AVX2 FMA, in other operations, rebuild TensorFlow with the appropriate compiler flags.\n"
     ]
    },
    {
     "data": {
      "text/plain": [
       "' run_selfplay(\\n    num_agents=1,\\n    num_games=3,\\n    buffer_size=128,\\n    use_fake_model=True,\\n    verbose=2,\\n) '"
      ]
     },
     "execution_count": 1,
     "metadata": {},
     "output_type": "execute_result"
    }
   ],
   "source": [
    "from selfplay import run_selfplay\n",
    "from mcts import MCTS\n",
    "from configs import selfplayConfig\n",
    "\n",
    "mctsSearch = MCTS(selfplayConfig)\n",
    "\n",
    "\"\"\" run_selfplay(\n",
    "    num_agents=1,\n",
    "    num_games=3,\n",
    "    buffer_size=128,\n",
    "    use_fake_model=True,\n",
    "    verbose=2,\n",
    ") \"\"\""
   ]
  },
  {
   "cell_type": "code",
   "execution_count": 2,
   "metadata": {},
   "outputs": [
    {
     "name": "stdout",
     "output_type": "stream",
     "text": [
      "(1, 109, 8, 8) (1, 109, 8, 8)\n",
      "Differences found at planes: [108]\n",
      "[[0.03 0.03 0.03 0.03 0.03 0.03 0.03 0.03]\n",
      " [0.03 0.03 0.03 0.03 0.03 0.03 0.03 0.03]\n",
      " [0.03 0.03 0.03 0.03 0.03 0.03 0.03 0.03]\n",
      " [0.03 0.03 0.03 0.03 0.03 0.03 0.03 0.03]\n",
      " [0.03 0.03 0.03 0.03 0.03 0.03 0.03 0.03]\n",
      " [0.03 0.03 0.03 0.03 0.03 0.03 0.03 0.03]\n",
      " [0.03 0.03 0.03 0.03 0.03 0.03 0.03 0.03]\n",
      " [0.03 0.03 0.03 0.03 0.03 0.03 0.03 0.03]]\n",
      "\n",
      "[[0.03030303 0.03030303 0.03030303 0.03030303 0.03030303 0.03030303\n",
      "  0.03030303 0.03030303]\n",
      " [0.03030303 0.03030303 0.03030303 0.03030303 0.03030303 0.03030303\n",
      "  0.03030303 0.03030303]\n",
      " [0.03030303 0.03030303 0.03030303 0.03030303 0.03030303 0.03030303\n",
      "  0.03030303 0.03030303]\n",
      " [0.03030303 0.03030303 0.03030303 0.03030303 0.03030303 0.03030303\n",
      "  0.03030303 0.03030303]\n",
      " [0.03030303 0.03030303 0.03030303 0.03030303 0.03030303 0.03030303\n",
      "  0.03030303 0.03030303]\n",
      " [0.03030303 0.03030303 0.03030303 0.03030303 0.03030303 0.03030303\n",
      "  0.03030303 0.03030303]\n",
      " [0.03030303 0.03030303 0.03030303 0.03030303 0.03030303 0.03030303\n",
      "  0.03030303 0.03030303]\n",
      " [0.03030303 0.03030303 0.03030303 0.03030303 0.03030303 0.03030303\n",
      "  0.03030303 0.03030303]]\n"
     ]
    }
   ],
   "source": [
    "from model import reshape_planes\n",
    "from utils import convert_u64_to_np\n",
    "from rchess import Board\n",
    "import numpy as np\n",
    "import tensorflow as tf\n",
    "\n",
    "board = Board()\n",
    "board.push_uci(\"e2e4\")\n",
    "board.push_uci(\"e7e5\")\n",
    "board.push_uci(\"g1f3\")\n",
    "board.push_uci(\"g8f6\")\n",
    "board.push_uci(\"e1e2\")\n",
    "#print(board)\n",
    "\n",
    "history, hash = board.history(False)\n",
    "np_array = convert_u64_to_np(history)\n",
    "# Convert the numpy array to a tensorflow tensor\n",
    "tf_history = tf.convert_to_tensor(np.array([history]), dtype=tf.int64)\n",
    "\n",
    "# Reshape the tensor using reshape_planes\n",
    "tf_tensor = reshape_planes(tf_history)\n",
    "tf_tensor_np = tf_tensor.numpy()\n",
    "# Check if both are the same\n",
    "print(np_array.shape, tf_tensor_np.shape)\n",
    "# Manually loop through the 109 planes and find the differences\n",
    "differences = []\n",
    "for i in range(109):\n",
    "    if not np.array_equal(np_array[0][i], tf_tensor_np[0][i]):\n",
    "        differences.append(i)\n",
    "\n",
    "# Print the indices where differences were found\n",
    "print(\"Differences found at planes:\", differences)\n",
    "\"\"\" plane = 3\n",
    "print(np_array[0][plane])\n",
    "print()\n",
    "print(tf_tensor_np[0][plane]) \"\"\"\n",
    "for index in differences:\n",
    "    print(np_array[0][index])\n",
    "    print()\n",
    "    print(tf_tensor_np[0][index])\n"
   ]
  }
 ],
 "metadata": {
  "kernelspec": {
   "display_name": "Python 3",
   "language": "python",
   "name": "python3"
  },
  "language_info": {
   "codemirror_mode": {
    "name": "ipython",
    "version": 3
   },
   "file_extension": ".py",
   "mimetype": "text/x-python",
   "name": "python",
   "nbconvert_exporter": "python",
   "pygments_lexer": "ipython3",
   "version": "3.10.12"
  }
 },
 "nbformat": 4,
 "nbformat_minor": 2
}
