{
 "cells": [
  {
   "cell_type": "code",
   "execution_count": 1,
   "metadata": {},
   "outputs": [],
   "source": [
    "from rchess import Board\n",
    "import numpy as np"
   ]
  },
  {
   "cell_type": "code",
   "execution_count": 4,
   "metadata": {},
   "outputs": [
    {
     "name": "stdout",
     "output_type": "stream",
     "text": [
      "\n",
      "  +---+---+---+---+---+---+---+---+\n",
      "  | r | n | b | q | k | b | n | r | 8\n",
      "  +---+---+---+---+---+---+---+---+\n",
      "  | p | p | p | p | p | p | p | p | 7\n",
      "  +---+---+---+---+---+---+---+---+\n",
      "  |   |   |   |   |   |   |   |   | 6\n",
      "  +---+---+---+---+---+---+---+---+\n",
      "  |   |   |   |   |   |   |   |   | 5\n",
      "  +---+---+---+---+---+---+---+---+\n",
      "  |   |   |   |   |   |   |   |   | 4\n",
      "  +---+---+---+---+---+---+---+---+\n",
      "  |   |   |   |   |   |   |   |   | 3\n",
      "  +---+---+---+---+---+---+---+---+\n",
      "  | P | P | P | P | P | P | P | P | 2\n",
      "  +---+---+---+---+---+---+---+---+\n",
      "  | R | N | B | Q | K | B | N | R | 1\n",
      "  +---+---+---+---+---+---+---+---+\n",
      "    a   b   c   d   e   f   g   h\n",
      "\n",
      "Fen: rnbqkbnr/pppppppp/8/8/8/8/PPPPPPPP/RNBQKBNR w KQkq - 0 1\n",
      "Key: 8cefbf3a77078a08\n"
     ]
    }
   ],
   "source": [
    "#8cefbf3a77078a08, 8cefbf3a77078a08\n",
    "board = Board()\n",
    "#board.push_uci(\"e2e4\")\n",
    "print(board.to_string())"
   ]
  },
  {
   "cell_type": "code",
   "execution_count": 11,
   "metadata": {},
   "outputs": [
    {
     "name": "stdout",
     "output_type": "stream",
     "text": [
      "(1, 117, 8, 8)\n",
      "[[0. 0. 0. 0. 0. 0. 0. 0.]\n",
      " [0. 0. 0. 0. 0. 0. 0. 0.]\n",
      " [0. 0. 0. 0. 0. 0. 0. 0.]\n",
      " [0. 0. 0. 0. 0. 0. 0. 0.]\n",
      " [0. 0. 0. 0. 0. 0. 0. 0.]\n",
      " [0. 0. 0. 0. 0. 0. 0. 0.]\n",
      " [1. 1. 1. 1. 1. 1. 1. 1.]\n",
      " [0. 0. 0. 0. 0. 0. 0. 0.]]\n"
     ]
    }
   ],
   "source": [
    "from utils import convert_u64_to_np\n",
    "\n",
    "image, hash = board.history_image(False)\n",
    "image_np = convert_u64_to_np(image)\n",
    "print(image_np.shape)\n",
    "print(image_np[0, 6, :, :])"
   ]
  },
  {
   "cell_type": "code",
   "execution_count": 5,
   "metadata": {},
   "outputs": [
    {
     "data": {
      "text/plain": [
       "(2, 117, 8, 8)"
      ]
     },
     "execution_count": 5,
     "metadata": {},
     "output_type": "execute_result"
    }
   ],
   "source": [
    "images = [image, image]\n",
    "images_np = convert_u64_to_np(images)\n",
    "images_np.shape"
   ]
  },
  {
   "cell_type": "code",
   "execution_count": 28,
   "metadata": {},
   "outputs": [
    {
     "name": "stdout",
     "output_type": "stream",
     "text": [
      "0.002259969711303711 100\n",
      "\n",
      "  +---+---+---+---+---+---+---+---+\n",
      "  |   |   |   |   |   |   | n |   | 8\n",
      "  +---+---+---+---+---+---+---+---+\n",
      "  |   | B | k |   |   |   |   | p | 7\n",
      "  +---+---+---+---+---+---+---+---+\n",
      "  | P |   |   |   |   | p | P | b | 6\n",
      "  +---+---+---+---+---+---+---+---+\n",
      "  | P | p |   |   |   |   | p |   | 5\n",
      "  +---+---+---+---+---+---+---+---+\n",
      "  |   |   |   | p | P | p | P |   | 4\n",
      "  +---+---+---+---+---+---+---+---+\n",
      "  |   |   |   | P |   | K |   | P | 3\n",
      "  +---+---+---+---+---+---+---+---+\n",
      "  |   |   |   | r |   | R |   |   | 2\n",
      "  +---+---+---+---+---+---+---+---+\n",
      "  |   |   |   |   |   |   |   |   | 1\n",
      "  +---+---+---+---+---+---+---+---+\n",
      "    a   b   c   d   e   f   g   h\n",
      "\n",
      "Fen: 6n1/1Bk4p/P4pPb/Pp4p1/3pPpP1/3P1K1P/3r1R2/8 w - - 0 51\n",
      "Key: 834df0ac73db794b\n",
      "DRAW\n",
      "InProgress\n"
     ]
    }
   ],
   "source": [
    "import random\n",
    "import time\n",
    "t1 = time.time()\n",
    "board = Board()\n",
    "winner = None\n",
    "moves_played = []\n",
    "while board.ply() < 100:\n",
    "    terminal, winner = board.is_terminal()\n",
    "    if terminal:\n",
    "        break\n",
    "    moves = board.legal_moves()\n",
    "    move = moves[random.randint(0, len(moves) - 1)]\n",
    "    moves_played.append(move)\n",
    "    board.push_uci(move)\n",
    "t2 = time.time()\n",
    "print(t2 - t1, board.ply())\n",
    "print(board.to_string())\n",
    "print(\"WHITE\") if winner == 1 else print(\"BLACK\") if winner == 0 else print(\"DRAW\")\n",
    "print(board.outcome_str())"
   ]
  },
  {
   "cell_type": "code",
   "execution_count": 29,
   "metadata": {},
   "outputs": [
    {
     "name": "stdout",
     "output_type": "stream",
     "text": [
      "0.0724029541015625 100\n",
      ". . k . B . . .\n",
      "p . . . . . . .\n",
      ". . . R . . . .\n",
      ". . . . . . P p\n",
      ". . . . . . . P\n",
      ". . P p . b . q\n",
      "P . . K . B . .\n",
      ". r . . . . N n\n",
      "*\n"
     ]
    }
   ],
   "source": [
    "import chess as pychess\n",
    "import random\n",
    "import time\n",
    "t1 = time.time()\n",
    "board = pychess.Board()\n",
    "moves_played = []\n",
    "while board.ply() < 100:\n",
    "    if board.is_game_over(claim_draw=True):\n",
    "        break\n",
    "    moves = [move.uci() for move in board.legal_moves]\n",
    "    move = moves[random.randint(0, len(moves) - 1)]\n",
    "    moves_played.append(move)\n",
    "    board.push_uci(move)\n",
    "t2 = time.time()\n",
    "print(t2 - t1, board.ply())\n",
    "print(board)\n",
    "print(board.result())"
   ]
  },
  {
   "cell_type": "code",
   "execution_count": 20,
   "metadata": {},
   "outputs": [
    {
     "data": {
      "text/plain": [
       "'f4e3'"
      ]
     },
     "execution_count": 20,
     "metadata": {},
     "output_type": "execute_result"
    }
   ],
   "source": [
    "moves_played[-1]"
   ]
  },
  {
   "cell_type": "code",
   "execution_count": 9,
   "metadata": {},
   "outputs": [
    {
     "data": {
      "text/plain": [
       "['a2a4',\n",
       " 'g7g5',\n",
       " 'b2b4',\n",
       " 'e7e5',\n",
       " 'c1a3',\n",
       " 'g8h6',\n",
       " 'f2f4',\n",
       " 'b8c6',\n",
       " 'b4b5',\n",
       " 'f8c5',\n",
       " 'h2h3',\n",
       " 'e5f4',\n",
       " 'b5c6',\n",
       " 'd8f6',\n",
       " 'c6b4',\n",
       " 'a7a5',\n",
       " 'd2d3',\n",
       " 'f6e7',\n",
       " 'a3b2',\n",
       " 'e7f8',\n",
       " 'b1a3',\n",
       " 'c6e7']"
      ]
     },
     "execution_count": 9,
     "metadata": {},
     "output_type": "execute_result"
    }
   ],
   "source": [
    "moves_played"
   ]
  },
  {
   "cell_type": "code",
   "execution_count": 2,
   "metadata": {},
   "outputs": [
    {
     "name": "stdout",
     "output_type": "stream",
     "text": [
      "\n",
      "  +---+---+---+---+---+---+---+---+\n",
      "  | r |   | b | q | k | b |   | r | 8\n",
      "  +---+---+---+---+---+---+---+---+\n",
      "  | p | p | p | p |   | p |   | p | 7\n",
      "  +---+---+---+---+---+---+---+---+\n",
      "  |   |   | n |   |   |   |   | n | 6\n",
      "  +---+---+---+---+---+---+---+---+\n",
      "  |   |   |   |   | p |   | p |   | 5\n",
      "  +---+---+---+---+---+---+---+---+\n",
      "  | P | P |   |   |   | P |   |   | 4\n",
      "  +---+---+---+---+---+---+---+---+\n",
      "  | B |   |   |   |   |   |   |   | 3\n",
      "  +---+---+---+---+---+---+---+---+\n",
      "  |   |   | P | P | P |   | P | P | 2\n",
      "  +---+---+---+---+---+---+---+---+\n",
      "  | R | N |   | Q | K | B | N | R | 1\n",
      "  +---+---+---+---+---+---+---+---+\n",
      "    a   b   c   d   e   f   g   h\n",
      "\n",
      "Fen: r1bqkb1r/pppp1p1p/2n4n/4p1p1/PP3P2/B7/2PPP1PP/RN1QKBNR w KQkq - 1 5\n",
      "Key: 9347ef5f29b6ad6c\n"
     ]
    }
   ],
   "source": [
    "board = Board()\n",
    "board.push_uci(\"a2a4\")\n",
    "board.push_uci(\"g7g5\")\n",
    "board.push_uci(\"b2b4\")\n",
    "board.push_uci(\"e7e5\")\n",
    "board.push_uci(\"c1a3\")\n",
    "board.push_uci(\"g8h6\")\n",
    "board.push_uci(\"f2f4\")\n",
    "board.push_uci(\"b8c6\")\n",
    "print(board.to_string())"
   ]
  },
  {
   "cell_type": "code",
   "execution_count": null,
   "metadata": {},
   "outputs": [],
   "source": []
  }
 ],
 "metadata": {
  "kernelspec": {
   "display_name": "Python 3",
   "language": "python",
   "name": "python3"
  },
  "language_info": {
   "codemirror_mode": {
    "name": "ipython",
    "version": 3
   },
   "file_extension": ".py",
   "mimetype": "text/x-python",
   "name": "python",
   "nbconvert_exporter": "python",
   "pygments_lexer": "ipython3",
   "version": "3.10.12"
  }
 },
 "nbformat": 4,
 "nbformat_minor": 2
}
