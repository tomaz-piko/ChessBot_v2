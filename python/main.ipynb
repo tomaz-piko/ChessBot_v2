{
 "cells": [
  {
   "cell_type": "code",
   "execution_count": 1,
   "metadata": {},
   "outputs": [],
   "source": [
    "from rchess import Board\n",
    "import numpy as np"
   ]
  },
  {
   "cell_type": "code",
   "execution_count": 5,
   "metadata": {},
   "outputs": [
    {
     "name": "stdout",
     "output_type": "stream",
     "text": [
      "\n",
      "  +---+---+---+---+---+---+---+---+\n",
      "  | r | n | b | q | k | b | n | r | 8\n",
      "  +---+---+---+---+---+---+---+---+\n",
      "  | p | p | p | p | p | p | p | p | 7\n",
      "  +---+---+---+---+---+---+---+---+\n",
      "  |   |   |   |   |   |   |   |   | 6\n",
      "  +---+---+---+---+---+---+---+---+\n",
      "  |   |   |   |   |   |   |   |   | 5\n",
      "  +---+---+---+---+---+---+---+---+\n",
      "  |   |   |   |   |   |   |   |   | 4\n",
      "  +---+---+---+---+---+---+---+---+\n",
      "  |   |   |   |   |   |   |   |   | 3\n",
      "  +---+---+---+---+---+---+---+---+\n",
      "  | P | P | P | P | P | P | P | P | 2\n",
      "  +---+---+---+---+---+---+---+---+\n",
      "  | R | N | B | Q | K | B | N | R | 1\n",
      "  +---+---+---+---+---+---+---+---+\n",
      "    a   b   c   d   e   f   g   h\n",
      "\n",
      "Fen: rnbqkbnr/pppppppp/8/8/8/8/PPPPPPPP/RNBQKBNR w KQkq - 0 1\n",
      "Key: 8cefbf3a77078a08\n"
     ]
    }
   ],
   "source": [
    "board = Board()\n",
    "print(board.to_string())"
   ]
  },
  {
   "cell_type": "code",
   "execution_count": 7,
   "metadata": {},
   "outputs": [
    {
     "data": {
      "text/plain": [
       "(array([[0.16022421]]),\n",
       " array([[0.72136392, 0.57083357, 0.47040038, ..., 0.77928933, 0.24787217,\n",
       "         0.51568062]]))"
      ]
     },
     "execution_count": 7,
     "metadata": {},
     "output_type": "execute_result"
    }
   ],
   "source": [
    "from utils import convert_u64_to_np\n",
    "\n",
    "def test_model(input): # This is trt_func in prod\n",
    "    shape = input.shape\n",
    "    return {\n",
    "        \"policy_head\": np.random.rand(shape[0], 1858),\n",
    "        \"value_head\": np.random.rand(shape[0], 1)\n",
    "    }\n",
    "\n",
    "def predict_fn(trt_func, input):\n",
    "    predictions = trt_func(input)\n",
    "    policy_logits = predictions[\"policy_head\"]\n",
    "    value = predictions[\"value_head\"]\n",
    "    return value, policy_logits\n",
    "    \n",
    "def make_predictions(data): # Not sure yet what data is\n",
    "    input = convert_u64_to_np(data)\n",
    "    value, policy_logits = predict_fn(test_model, input)\n",
    "    return value, policy_logits\n",
    "\n",
    "board = Board()\n",
    "history, _ = board.history(False)\n",
    "make_predictions(history)"
   ]
  },
  {
   "cell_type": "code",
   "execution_count": 1,
   "metadata": {},
   "outputs": [
    {
     "name": "stderr",
     "output_type": "stream",
     "text": [
      "2024-12-27 21:29:10.493840: I tensorflow/core/platform/cpu_feature_guard.cc:182] This TensorFlow binary is optimized to use available CPU instructions in performance-critical operations.\n",
      "To enable the following instructions: AVX2 FMA, in other operations, rebuild TensorFlow with the appropriate compiler flags.\n",
      "2024-12-27 21:29:11.916788: I tensorflow/core/common_runtime/gpu/gpu_device.cc:1635] Created device /job:localhost/replica:0/task:0/device:GPU:0 with 5865 MB memory:  -> device: 0, name: NVIDIA GeForce RTX 2070 SUPER, pci bus id: 0000:26:00.0, compute capability: 7.5\n",
      "2024-12-27 21:29:12.516727: E tensorflow/compiler/tf2tensorrt/utils/trt_logger.cc:87] DefaultLogger 3: [runtime.cpp::~Runtime::346] Error Code 3: API Usage Error (Parameter check failed at: runtime/rt/runtime.cpp::~Runtime::346, condition: mEngineCounter.use_count() == 1. Destroying a runtime before destroying deserialized engines created by the runtime leads to undefined behavior.\n",
      ")\n"
     ]
    }
   ],
   "source": [
    "from model import load_as_trt_model\n",
    "import numpy as np\n",
    "trt_func, model = load_as_trt_model()\n",
    "\n",
    "\n",
    "from rchess import Board\n",
    "import time"
   ]
  },
  {
   "cell_type": "code",
   "execution_count": 2,
   "metadata": {},
   "outputs": [],
   "source": [
    "board = Board()"
   ]
  },
  {
   "cell_type": "code",
   "execution_count": 3,
   "metadata": {},
   "outputs": [
    {
     "name": "stdout",
     "output_type": "stream",
     "text": [
      "Average time 0.11894978284835815\n"
     ]
    }
   ],
   "source": [
    "from mcts import find_best_move, Node\n",
    "\n",
    "times = []\n",
    "for i in range(10):\n",
    "    board = Board()\n",
    "    root = None\n",
    "    for i in range(10):\n",
    "        t1 = time.time()\n",
    "        move, root, child_visits = find_best_move(board, root, trt_func, 800)\n",
    "        t2 = time.time()\n",
    "        times.append(t2 - t1)\n",
    "        board.push_uci(move)\n",
    "        terminal, winner = board.terminal()\n",
    "        if terminal:\n",
    "            print(\"Game over, winner is\", winner)\n",
    "        root = root[move]\n",
    "print(\"Average time\", np.mean(times))\n"
   ]
  },
  {
   "cell_type": "code",
   "execution_count": null,
   "metadata": {},
   "outputs": [],
   "source": [
    "import pstats, cProfile\n",
    "from mcts import find_best_move\n",
    "board = Board()\n",
    "cProfile.runctx(\"find_best_move(board, None, trt_func, 800)\", globals(), locals(), \"Profile.prof\")\n",
    "\n",
    "s = pstats.Stats(\"Profile.prof\")\n",
    "s.strip_dirs().sort_stats(\"time\").print_stats()"
   ]
  },
  {
   "cell_type": "code",
   "execution_count": 6,
   "metadata": {},
   "outputs": [
    {
     "name": "stdout",
     "output_type": "stream",
     "text": [
      "\n",
      "  +---+---+---+---+---+---+---+---+\n",
      "  | r |   | b | q | k | b |   | r | 8\n",
      "  +---+---+---+---+---+---+---+---+\n",
      "  | p | p | p | p | p | p | p | p | 7\n",
      "  +---+---+---+---+---+---+---+---+\n",
      "  |   |   |   |   |   |   |   |   | 6\n",
      "  +---+---+---+---+---+---+---+---+\n",
      "  |   |   |   |   |   |   |   |   | 5\n",
      "  +---+---+---+---+---+---+---+---+\n",
      "  |   |   |   |   | n |   |   |   | 4\n",
      "  +---+---+---+---+---+---+---+---+\n",
      "  | P |   | N |   |   | N |   |   | 3\n",
      "  +---+---+---+---+---+---+---+---+\n",
      "  |   | P | Q | P | P | P | P | P | 2\n",
      "  +---+---+---+---+---+---+---+---+\n",
      "  | R |   | B | K |   | B |   | R | 1\n",
      "  +---+---+---+---+---+---+---+---+\n",
      "    a   b   c   d   e   f   g   h\n",
      "\n",
      "Fen: r1bqkb1r/pppppppp/8/8/4n3/P1N2N2/1PQPPPPP/R1BK1B1R w kq - 3 6\n",
      "Key: ef69a98e93ec1388\n"
     ]
    }
   ],
   "source": [
    "print(board.to_string())"
   ]
  },
  {
   "cell_type": "code",
   "execution_count": 2,
   "metadata": {},
   "outputs": [
    {
     "name": "stdout",
     "output_type": "stream",
     "text": [
      "Average time 0.31473344564437866\n"
     ]
    }
   ],
   "source": [
    "from mcts import SelfplayGame\n",
    "times = []\n",
    "for i in range(10):\n",
    "    game = SelfplayGame()\n",
    "    for i in range(10):\n",
    "        t1 = time.time()\n",
    "        move, child_visits = game.simulate(trt_func, 800)\n",
    "        t2 = time.time()\n",
    "        times.append(t2 - t1)\n",
    "        game.make_move(move)\n",
    "        terminal, winner = game.board.terminal()\n",
    "        if terminal:\n",
    "            print(\"Game over, winner is\", winner)\n",
    "print(\"Average time\", np.mean(times))"
   ]
  },
  {
   "cell_type": "code",
   "execution_count": 27,
   "metadata": {},
   "outputs": [
    {
     "name": "stdout",
     "output_type": "stream",
     "text": [
      "0.4044685363769531\n"
     ]
    }
   ],
   "source": [
    "t1 = time.time()\n",
    "move, child_visits = game.simulate(trt_func, 800)\n",
    "t2 = time.time()\n",
    "print(t2-t1)\n",
    "game.make_move(move)\n",
    "terminal, winner = game.board.terminal()\n",
    "if terminal:\n",
    "    print(\"Game over, winner is\", winner)"
   ]
  },
  {
   "cell_type": "code",
   "execution_count": 16,
   "metadata": {},
   "outputs": [
    {
     "name": "stdout",
     "output_type": "stream",
     "text": [
      "Draw\n",
      "\n",
      "  +---+---+---+---+---+---+---+---+\n",
      "  |   |   |   |   |   |   |   |   | 8\n",
      "  +---+---+---+---+---+---+---+---+\n",
      "  |   |   |   |   |   |   |   |   | 7\n",
      "  +---+---+---+---+---+---+---+---+\n",
      "  |   |   |   |   |   |   |   |   | 6\n",
      "  +---+---+---+---+---+---+---+---+\n",
      "  |   |   |   |   |   |   |   |   | 5\n",
      "  +---+---+---+---+---+---+---+---+\n",
      "  |   |   |   |   |   |   |   |   | 4\n",
      "  +---+---+---+---+---+---+---+---+\n",
      "  |   |   |   |   |   | Q |   |   | 3\n",
      "  +---+---+---+---+---+---+---+---+\n",
      "  |   |   | K |   |   |   |   |   | 2\n",
      "  +---+---+---+---+---+---+---+---+\n",
      "  |   |   |   |   | k |   |   |   | 1\n",
      "  +---+---+---+---+---+---+---+---+\n",
      "    a   b   c   d   e   f   g   h\n",
      "\n",
      "Fen: 8/8/8/8/8/5Q2/2K5/4k3 b - - 66 199\n",
      "Key: d554af9f066be6d5\n",
      "134.74590635299683\n",
      "b1c2\n"
     ]
    }
   ],
   "source": [
    "game = SelfplayGame()\n",
    "t1 = time.time()\n",
    "while True:\n",
    "    move, child_visits = game.simulate(trt_func, 800)\n",
    "    game.make_move(move)\n",
    "    terminal, winner = game.board.terminal()\n",
    "    if terminal:\n",
    "        break\n",
    "if winner == 1:\n",
    "    print(\"White wins\")\n",
    "elif winner == -1:\n",
    "    print(\"Black wins\")\n",
    "else:\n",
    "    print(\"Draw\")\n",
    "t2 = time.time()\n",
    "print(game.board.to_string())\n",
    "print(t2-t1)\n",
    "print(move)\n"
   ]
  },
  {
   "cell_type": "code",
   "execution_count": 4,
   "metadata": {},
   "outputs": [],
   "source": [
    "import numpy as np\n",
    "import timeit\n",
    "import time\n",
    "from math import sqrt, log\n",
    "\n",
    "class Node:\n",
    "    @property\n",
    "    def Q(self):\n",
    "        return self.W / self.N if self.N > 0 else 0.0\n",
    "\n",
    "    def __init__(self):\n",
    "        self.children = {}\n",
    "        self.vloss = 0\n",
    "        self.to_play = None\n",
    "\n",
    "        # Values for MCTS\n",
    "        self.N = 0\n",
    "        self.W = 0.0\n",
    "        self.P = 0.0\n",
    "\n",
    "    def __getitem__(self, move: str):\n",
    "        return self.children[move]\n",
    "    \n",
    "    def __setitem__(self, move: str, node):\n",
    "        self.children[move] = node\n",
    "\n",
    "    def is_leaf(self):\n",
    "        return not self.children\n",
    "    \n",
    "# Create a dummy node with 30 fake children\n",
    "dummy_node = Node()\n",
    "dummy_node.N = 100  # Set parent visit count\n",
    "\n",
    "for i in range(30):\n",
    "    child = Node()\n",
    "    child.N = np.random.randint(1, 100)  # Random visit count for each child\n",
    "    child.W = np.random.rand() * 100  # Random total value for each child\n",
    "    child.P = np.random.rand()  # Random prior probability for each child\n",
    "    dummy_node.children[f\"move_{i}\"] = child"
   ]
  },
  {
   "cell_type": "code",
   "execution_count": 7,
   "metadata": {},
   "outputs": [
    {
     "name": "stdout",
     "output_type": "stream",
     "text": [
      "Average time taken over 1000000 runs: 1.9494292420004056e-06 seconds\n",
      "Total time taken: 1.9494292420004058 seconds\n"
     ]
    }
   ],
   "source": [
    "def select_child(node: Node, pb_c_base: float, pb_c_init: float, pb_c_factor: float, fpu: float):\n",
    "    bestucb = -np.inf\n",
    "    bestmove = None\n",
    "    bestchild = None\n",
    "\n",
    "    parent_N_sqrt = sqrt(node.N + 1)\n",
    "    pb_c = log((node.N + pb_c_base + 1) / pb_c_base) * pb_c_factor + pb_c_init\n",
    "\n",
    "    for move, child in node.children.items():\n",
    "        if child.N == 0:\n",
    "            puct = child.Q + pb_c * child.P * parent_N_sqrt / (child.N + 1)\n",
    "        else:\n",
    "            puct = fpu\n",
    "        if puct > bestucb:\n",
    "            bestucb = puct\n",
    "            bestmove = move\n",
    "            bestchild = child\n",
    "\n",
    "    return bestmove, bestchild\n",
    "\n",
    "# Create a dummy node with 30 fake children\n",
    "dummy_node = Node()\n",
    "dummy_node.N = 100  # Set parent visit count\n",
    "\n",
    "for i in range(30):\n",
    "    child = Node()\n",
    "    child.N = np.random.randint(1, 100)  # Random visit count for each child\n",
    "    child.W = np.random.rand() * 100  # Random total value for each child\n",
    "    child.P = np.random.rand()  # Random prior probability for each child\n",
    "    dummy_node.children[f\"move_{i}\"] = child\n",
    "\n",
    "# Benchmark the select_child function\n",
    "pb_c_base = 19652\n",
    "pb_c_init = 1.25\n",
    "pb_c_factor = 1.0\n",
    "fpu = 0.0#bestmove, bestchild = select_child(dummy_node, pb_c_base, pb_c_init, pb_c_factor, fpu)\n",
    "\n",
    "num_runs = 1000000\n",
    "# Benchmark the select_child function using timeit\n",
    "benchmark_time = timeit.timeit(\n",
    "    \"select_child(dummy_node, pb_c_base, pb_c_init, pb_c_factor, fpu)\",\n",
    "    globals=globals(),\n",
    "    number=num_runs\n",
    ")\n",
    "\n",
    "print(f\"Average time taken over {num_runs} runs: {benchmark_time / num_runs} seconds\")\n",
    "print(f\"Total time taken: {benchmark_time} seconds\")"
   ]
  },
  {
   "cell_type": "code",
   "execution_count": 6,
   "metadata": {},
   "outputs": [
    {
     "name": "stdout",
     "output_type": "stream",
     "text": [
      "Average time taken over 1000000 runs: 5.751467379999667e-06 seconds\n",
      "Total time taken: 5.751467379999667 seconds\n"
     ]
    }
   ],
   "source": [
    "from mcts.c import select_child\n",
    "\n",
    "# Create a dummy node with 30 fake children\n",
    "dummy_node = Node()\n",
    "dummy_node.N = 100  # Set parent visit count\n",
    "\n",
    "for i in range(30):\n",
    "    child = Node()\n",
    "    child.N = np.random.randint(1, 100)  # Random visit count for each child\n",
    "    child.W = np.random.rand() * 100  # Random total value for each child\n",
    "    child.P = np.random.rand()  # Random prior probability for each child\n",
    "    dummy_node.children[f\"move_{i}\"] = child\n",
    "\n",
    "# Benchmark the select_child function\n",
    "pb_c_base = 19652\n",
    "pb_c_init = 1.25\n",
    "pb_c_factor = 1.0\n",
    "fpu = 0.0#bestmove, bestchild = select_child(dummy_node, pb_c_base, pb_c_init, pb_c_factor, fpu)\n",
    "\n",
    "num_runs = 1000000\n",
    "# Benchmark the select_child function using timeit\n",
    "benchmark_time = timeit.timeit(\n",
    "    \"select_child(dummy_node, pb_c_base, pb_c_init, pb_c_factor, fpu)\",\n",
    "    globals=globals(),\n",
    "    number=num_runs\n",
    ")\n",
    "\n",
    "print(f\"Average time taken over {num_runs} runs: {benchmark_time / num_runs} seconds\")\n",
    "print(f\"Total time taken: {benchmark_time} seconds\")"
   ]
  },
  {
   "cell_type": "code",
   "execution_count": 4,
   "metadata": {},
   "outputs": [
    {
     "name": "stdout",
     "output_type": "stream",
     "text": [
      "Average time taken over 1000000 runs: 6.049426947000029e-06 seconds\n",
      "Total time taken: 6.049426947000029 seconds\n"
     ]
    }
   ],
   "source": [
    "# Update and remove vloss\n",
    "def backup(search_path, value):\n",
    "    for node in reversed(search_path):\n",
    "        node.N = node.N - node.vloss + 1\n",
    "        node.W = node.W + node.vloss + value\n",
    "        node.vloss = 0\n",
    "        value = flip_value(value)\n",
    "\n",
    "# Create a fake search path with at least 30 elements\n",
    "search_path = [Node() for _ in range(30)]\n",
    "value = np.random.rand()\n",
    "\n",
    "# Benchmark the backup function using timeit\n",
    "backup_time = timeit.timeit(\n",
    "    \"backup(search_path, value)\",\n",
    "    globals=globals(),\n",
    "    number=num_runs\n",
    ")\n",
    "\n",
    "print(f\"Average time taken over {num_runs} runs: {backup_time / num_runs} seconds\")\n",
    "print(f\"Total time taken: {backup_time} seconds\")"
   ]
  },
  {
   "cell_type": "code",
   "execution_count": 6,
   "metadata": {},
   "outputs": [
    {
     "name": "stdout",
     "output_type": "stream",
     "text": [
      "Average time taken over 1000000 runs: 4.521437020999656e-06 seconds\n",
      "Total time taken: 4.521437020999656 seconds\n"
     ]
    }
   ],
   "source": [
    "from mcts.c import backup\n",
    "\n",
    "# Create a fake search path with at least 30 elements\n",
    "search_path = [Node() for _ in range(30)]\n",
    "value = np.random.rand()\n",
    "\n",
    "# Benchmark the backup function using timeit\n",
    "backup_time = timeit.timeit(\n",
    "    \"backup(search_path, value)\",\n",
    "    globals=globals(),\n",
    "    number=num_runs\n",
    ")\n",
    "\n",
    "print(f\"Average time taken over {num_runs} runs: {backup_time / num_runs} seconds\")\n",
    "print(f\"Total time taken: {backup_time} seconds\")"
   ]
  },
  {
   "cell_type": "code",
   "execution_count": 7,
   "metadata": {},
   "outputs": [
    {
     "name": "stdout",
     "output_type": "stream",
     "text": [
      "Average time taken by reversed() over 100000 runs: 6.639731540008142e-06 seconds\n",
      "Average time taken by slicing over 100000 runs: 7.250656179994621e-06 seconds\n",
      "Average time taken by range over 100000 runs: 2.4007662889998754e-05 seconds\n"
     ]
    }
   ],
   "source": [
    "import timeit\n",
    "\n",
    "# Sample list\n",
    "sample_list = list(range(1000))\n",
    "\n",
    "# Method 1: Using reversed()\n",
    "def traverse_reversed(lst):\n",
    "    for item in reversed(lst):\n",
    "        pass\n",
    "\n",
    "# Method 2: Using slicing\n",
    "def traverse_slicing(lst):\n",
    "    for item in lst[::-1]:\n",
    "        pass\n",
    "\n",
    "# Method 3: Using a for loop with range\n",
    "def traverse_range(lst):\n",
    "    for i in range(len(lst)-1, -1, -1):\n",
    "        item = lst[i]\n",
    "\n",
    "# Number of runs for benchmarking\n",
    "num_runs = 100000\n",
    "\n",
    "# Benchmark each method\n",
    "time_reversed = timeit.timeit('traverse_reversed(sample_list)', globals=globals(), number=num_runs)\n",
    "time_slicing = timeit.timeit('traverse_slicing(sample_list)', globals=globals(), number=num_runs)\n",
    "time_range = timeit.timeit('traverse_range(sample_list)', globals=globals(), number=num_runs)\n",
    "\n",
    "print(f\"Average time taken by reversed() over {num_runs} runs: {time_reversed / num_runs} seconds\")\n",
    "print(f\"Average time taken by slicing over {num_runs} runs: {time_slicing / num_runs} seconds\")\n",
    "print(f\"Average time taken by range over {num_runs} runs: {time_range / num_runs} seconds\")"
   ]
  },
  {
   "cell_type": "code",
   "execution_count": 25,
   "metadata": {},
   "outputs": [
    {
     "name": "stdout",
     "output_type": "stream",
     "text": [
      "Average time taken by loop1 over 100000 runs: 3.7831326599916793e-06 seconds\n",
      "Average time taken by loop2 over 100000 runs: 3.0510011699971073e-06 seconds\n",
      "Average time taken by loop3 over 100000 runs: 3.2348851200003993e-06 seconds\n"
     ]
    }
   ],
   "source": [
    "import timeit\n",
    "\n",
    "# Define the node and policy_np for testing\n",
    "node = Node()\n",
    "policy_np = np.random.rand(30)\n",
    "\n",
    "# Create dummy children for the node\n",
    "for i in range(30):\n",
    "    child = Node()\n",
    "    node.children[f\"move_{i}\"] = child\n",
    "\n",
    "# Define the first loop\n",
    "def loop1():\n",
    "    for action, move_uci in enumerate(node.children.keys()):\n",
    "        node.children[move_uci].P = policy_np[action]\n",
    "\n",
    "# Define the second loop\n",
    "def loop2():\n",
    "    for p, child in zip(policy_np, node.children.values()):\n",
    "        child.P = p\n",
    "\n",
    "def loop3():\n",
    "    i = 0\n",
    "    for child in node.children.values():\n",
    "        child.P = policy_np[i]\n",
    "        i += 1\n",
    "\n",
    "# Number of runs for benchmarking\n",
    "num_runs = 100000\n",
    "\n",
    "# Benchmark each loop\n",
    "time_loop1 = timeit.timeit('loop1()', globals=globals(), number=num_runs)\n",
    "time_loop2 = timeit.timeit('loop2()', globals=globals(), number=num_runs)\n",
    "time_loop3 = timeit.timeit('loop3()', globals=globals(), number=num_runs)\n",
    "\n",
    "print(f\"Average time taken by loop1 over {num_runs} runs: {time_loop1 / num_runs} seconds\")\n",
    "print(f\"Average time taken by loop2 over {num_runs} runs: {time_loop2 / num_runs} seconds\")\n",
    "print(f\"Average time taken by loop3 over {num_runs} runs: {time_loop3 / num_runs} seconds\")"
   ]
  }
 ],
 "metadata": {
  "kernelspec": {
   "display_name": "Python 3",
   "language": "python",
   "name": "python3"
  },
  "language_info": {
   "codemirror_mode": {
    "name": "ipython",
    "version": 3
   },
   "file_extension": ".py",
   "mimetype": "text/x-python",
   "name": "python",
   "nbconvert_exporter": "python",
   "pygments_lexer": "ipython3",
   "version": "3.10.12"
  }
 },
 "nbformat": 4,
 "nbformat_minor": 2
}
